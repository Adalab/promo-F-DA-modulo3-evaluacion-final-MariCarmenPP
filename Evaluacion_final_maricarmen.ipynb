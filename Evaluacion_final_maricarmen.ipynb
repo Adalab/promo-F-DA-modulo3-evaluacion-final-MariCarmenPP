{
 "cells": [
  {
   "cell_type": "code",
   "execution_count": 82,
   "metadata": {},
   "outputs": [],
   "source": [
    "# Tratamiento de datos\n",
    "# -----------------------------------------------------------------------\n",
    "import pandas as pd\n",
    "import numpy as np\n",
    "\n",
    "# Visualización\n",
    "# ------------------------------------------------------------------------------\n",
    "import matplotlib.pyplot as plt\n",
    "import seaborn as sns\n",
    "\n",
    "# Evaluar linealidad de las relaciones entre las variables\n",
    "# y la distribución de las variables\n",
    "# ------------------------------------------------------------------------------\n",
    "import scipy.stats as stats\n",
    "\n",
    "# Configuración\n",
    "# -----------------------------------------------------------------------\n",
    "pd.set_option('display.max_columns', None) # para poder visualizar todas las columnas de los DataFrames\n",
    "\n",
    "# Gestión de los warnings\n",
    "# -----------------------------------------------------------------------\n",
    "import warnings\n",
    "warnings.filterwarnings(\"ignore\")"
   ]
  },
  {
   "cell_type": "code",
   "execution_count": 83,
   "metadata": {},
   "outputs": [],
   "source": [
    "df_cust_flight=pd.read_csv(\"Customer Flight Activity.csv\", index_col=0)\n",
    "\n",
    "df_cust_loyalty=pd.read_csv(\"Customer Loyalty History.csv\", index_col=0)"
   ]
  },
  {
   "cell_type": "markdown",
   "metadata": {},
   "source": [
    "FASE 1: EXPLORACIÓN Y LIMPIEZA"
   ]
  },
  {
   "cell_type": "markdown",
   "metadata": {},
   "source": [
    "1.Exploración Inicial: \n",
    "\n",
    "*Realiza una exploración inicial de los datos para identificar posibles problemas, como valores nulos, atípicos o datos faltantes en las columnas relevantes.\n",
    "\n",
    "*Utiliza funciones de Pandas para obtener información sobre la estructura de los datos, la presencia de valores nulos y estadísticas básicas de las columnas involucradas.\n",
    "\n",
    "*Une los dos conjuntos de datos de la forma más eficiente."
   ]
  },
  {
   "cell_type": "code",
   "execution_count": 84,
   "metadata": {},
   "outputs": [
    {
     "data": {
      "text/html": [
       "<div>\n",
       "<style scoped>\n",
       "    .dataframe tbody tr th:only-of-type {\n",
       "        vertical-align: middle;\n",
       "    }\n",
       "\n",
       "    .dataframe tbody tr th {\n",
       "        vertical-align: top;\n",
       "    }\n",
       "\n",
       "    .dataframe thead th {\n",
       "        text-align: right;\n",
       "    }\n",
       "</style>\n",
       "<table border=\"1\" class=\"dataframe\">\n",
       "  <thead>\n",
       "    <tr style=\"text-align: right;\">\n",
       "      <th></th>\n",
       "      <th>Year</th>\n",
       "      <th>Month</th>\n",
       "      <th>Flights Booked</th>\n",
       "      <th>Flights with Companions</th>\n",
       "      <th>Total Flights</th>\n",
       "      <th>Distance</th>\n",
       "      <th>Points Accumulated</th>\n",
       "      <th>Points Redeemed</th>\n",
       "      <th>Dollar Cost Points Redeemed</th>\n",
       "    </tr>\n",
       "    <tr>\n",
       "      <th>Loyalty Number</th>\n",
       "      <th></th>\n",
       "      <th></th>\n",
       "      <th></th>\n",
       "      <th></th>\n",
       "      <th></th>\n",
       "      <th></th>\n",
       "      <th></th>\n",
       "      <th></th>\n",
       "      <th></th>\n",
       "    </tr>\n",
       "  </thead>\n",
       "  <tbody>\n",
       "    <tr>\n",
       "      <th>100018</th>\n",
       "      <td>2017</td>\n",
       "      <td>1</td>\n",
       "      <td>3</td>\n",
       "      <td>0</td>\n",
       "      <td>3</td>\n",
       "      <td>1521</td>\n",
       "      <td>152.0</td>\n",
       "      <td>0</td>\n",
       "      <td>0</td>\n",
       "    </tr>\n",
       "    <tr>\n",
       "      <th>100102</th>\n",
       "      <td>2017</td>\n",
       "      <td>1</td>\n",
       "      <td>10</td>\n",
       "      <td>4</td>\n",
       "      <td>14</td>\n",
       "      <td>2030</td>\n",
       "      <td>203.0</td>\n",
       "      <td>0</td>\n",
       "      <td>0</td>\n",
       "    </tr>\n",
       "    <tr>\n",
       "      <th>100140</th>\n",
       "      <td>2017</td>\n",
       "      <td>1</td>\n",
       "      <td>6</td>\n",
       "      <td>0</td>\n",
       "      <td>6</td>\n",
       "      <td>1200</td>\n",
       "      <td>120.0</td>\n",
       "      <td>0</td>\n",
       "      <td>0</td>\n",
       "    </tr>\n",
       "    <tr>\n",
       "      <th>100214</th>\n",
       "      <td>2017</td>\n",
       "      <td>1</td>\n",
       "      <td>0</td>\n",
       "      <td>0</td>\n",
       "      <td>0</td>\n",
       "      <td>0</td>\n",
       "      <td>0.0</td>\n",
       "      <td>0</td>\n",
       "      <td>0</td>\n",
       "    </tr>\n",
       "    <tr>\n",
       "      <th>100272</th>\n",
       "      <td>2017</td>\n",
       "      <td>1</td>\n",
       "      <td>0</td>\n",
       "      <td>0</td>\n",
       "      <td>0</td>\n",
       "      <td>0</td>\n",
       "      <td>0.0</td>\n",
       "      <td>0</td>\n",
       "      <td>0</td>\n",
       "    </tr>\n",
       "  </tbody>\n",
       "</table>\n",
       "</div>"
      ],
      "text/plain": [
       "                Year  Month  Flights Booked  Flights with Companions  \\\n",
       "Loyalty Number                                                         \n",
       "100018          2017      1               3                        0   \n",
       "100102          2017      1              10                        4   \n",
       "100140          2017      1               6                        0   \n",
       "100214          2017      1               0                        0   \n",
       "100272          2017      1               0                        0   \n",
       "\n",
       "                Total Flights  Distance  Points Accumulated  Points Redeemed  \\\n",
       "Loyalty Number                                                                 \n",
       "100018                      3      1521               152.0                0   \n",
       "100102                     14      2030               203.0                0   \n",
       "100140                      6      1200               120.0                0   \n",
       "100214                      0         0                 0.0                0   \n",
       "100272                      0         0                 0.0                0   \n",
       "\n",
       "                Dollar Cost Points Redeemed  \n",
       "Loyalty Number                               \n",
       "100018                                    0  \n",
       "100102                                    0  \n",
       "100140                                    0  \n",
       "100214                                    0  \n",
       "100272                                    0  "
      ]
     },
     "execution_count": 84,
     "metadata": {},
     "output_type": "execute_result"
    }
   ],
   "source": [
    "df_cust_flight.head()"
   ]
  },
  {
   "cell_type": "code",
   "execution_count": 85,
   "metadata": {},
   "outputs": [
    {
     "data": {
      "text/html": [
       "<div>\n",
       "<style scoped>\n",
       "    .dataframe tbody tr th:only-of-type {\n",
       "        vertical-align: middle;\n",
       "    }\n",
       "\n",
       "    .dataframe tbody tr th {\n",
       "        vertical-align: top;\n",
       "    }\n",
       "\n",
       "    .dataframe thead th {\n",
       "        text-align: right;\n",
       "    }\n",
       "</style>\n",
       "<table border=\"1\" class=\"dataframe\">\n",
       "  <thead>\n",
       "    <tr style=\"text-align: right;\">\n",
       "      <th></th>\n",
       "      <th>Country</th>\n",
       "      <th>Province</th>\n",
       "      <th>City</th>\n",
       "      <th>Postal Code</th>\n",
       "      <th>Gender</th>\n",
       "      <th>Education</th>\n",
       "      <th>Salary</th>\n",
       "      <th>Marital Status</th>\n",
       "      <th>Loyalty Card</th>\n",
       "      <th>CLV</th>\n",
       "      <th>Enrollment Type</th>\n",
       "      <th>Enrollment Year</th>\n",
       "      <th>Enrollment Month</th>\n",
       "      <th>Cancellation Year</th>\n",
       "      <th>Cancellation Month</th>\n",
       "    </tr>\n",
       "    <tr>\n",
       "      <th>Loyalty Number</th>\n",
       "      <th></th>\n",
       "      <th></th>\n",
       "      <th></th>\n",
       "      <th></th>\n",
       "      <th></th>\n",
       "      <th></th>\n",
       "      <th></th>\n",
       "      <th></th>\n",
       "      <th></th>\n",
       "      <th></th>\n",
       "      <th></th>\n",
       "      <th></th>\n",
       "      <th></th>\n",
       "      <th></th>\n",
       "      <th></th>\n",
       "    </tr>\n",
       "  </thead>\n",
       "  <tbody>\n",
       "    <tr>\n",
       "      <th>480934</th>\n",
       "      <td>Canada</td>\n",
       "      <td>Ontario</td>\n",
       "      <td>Toronto</td>\n",
       "      <td>M2Z 4K1</td>\n",
       "      <td>Female</td>\n",
       "      <td>Bachelor</td>\n",
       "      <td>83236.0</td>\n",
       "      <td>Married</td>\n",
       "      <td>Star</td>\n",
       "      <td>3839.14</td>\n",
       "      <td>Standard</td>\n",
       "      <td>2016</td>\n",
       "      <td>2</td>\n",
       "      <td>NaN</td>\n",
       "      <td>NaN</td>\n",
       "    </tr>\n",
       "    <tr>\n",
       "      <th>549612</th>\n",
       "      <td>Canada</td>\n",
       "      <td>Alberta</td>\n",
       "      <td>Edmonton</td>\n",
       "      <td>T3G 6Y6</td>\n",
       "      <td>Male</td>\n",
       "      <td>College</td>\n",
       "      <td>NaN</td>\n",
       "      <td>Divorced</td>\n",
       "      <td>Star</td>\n",
       "      <td>3839.61</td>\n",
       "      <td>Standard</td>\n",
       "      <td>2016</td>\n",
       "      <td>3</td>\n",
       "      <td>NaN</td>\n",
       "      <td>NaN</td>\n",
       "    </tr>\n",
       "    <tr>\n",
       "      <th>429460</th>\n",
       "      <td>Canada</td>\n",
       "      <td>British Columbia</td>\n",
       "      <td>Vancouver</td>\n",
       "      <td>V6E 3D9</td>\n",
       "      <td>Male</td>\n",
       "      <td>College</td>\n",
       "      <td>NaN</td>\n",
       "      <td>Single</td>\n",
       "      <td>Star</td>\n",
       "      <td>3839.75</td>\n",
       "      <td>Standard</td>\n",
       "      <td>2014</td>\n",
       "      <td>7</td>\n",
       "      <td>2018.0</td>\n",
       "      <td>1.0</td>\n",
       "    </tr>\n",
       "    <tr>\n",
       "      <th>608370</th>\n",
       "      <td>Canada</td>\n",
       "      <td>Ontario</td>\n",
       "      <td>Toronto</td>\n",
       "      <td>P1W 1K4</td>\n",
       "      <td>Male</td>\n",
       "      <td>College</td>\n",
       "      <td>NaN</td>\n",
       "      <td>Single</td>\n",
       "      <td>Star</td>\n",
       "      <td>3839.75</td>\n",
       "      <td>Standard</td>\n",
       "      <td>2013</td>\n",
       "      <td>2</td>\n",
       "      <td>NaN</td>\n",
       "      <td>NaN</td>\n",
       "    </tr>\n",
       "    <tr>\n",
       "      <th>530508</th>\n",
       "      <td>Canada</td>\n",
       "      <td>Quebec</td>\n",
       "      <td>Hull</td>\n",
       "      <td>J8Y 3Z5</td>\n",
       "      <td>Male</td>\n",
       "      <td>Bachelor</td>\n",
       "      <td>103495.0</td>\n",
       "      <td>Married</td>\n",
       "      <td>Star</td>\n",
       "      <td>3842.79</td>\n",
       "      <td>Standard</td>\n",
       "      <td>2014</td>\n",
       "      <td>10</td>\n",
       "      <td>NaN</td>\n",
       "      <td>NaN</td>\n",
       "    </tr>\n",
       "  </tbody>\n",
       "</table>\n",
       "</div>"
      ],
      "text/plain": [
       "               Country          Province       City Postal Code  Gender  \\\n",
       "Loyalty Number                                                            \n",
       "480934          Canada           Ontario    Toronto     M2Z 4K1  Female   \n",
       "549612          Canada           Alberta   Edmonton     T3G 6Y6    Male   \n",
       "429460          Canada  British Columbia  Vancouver     V6E 3D9    Male   \n",
       "608370          Canada           Ontario    Toronto     P1W 1K4    Male   \n",
       "530508          Canada            Quebec       Hull     J8Y 3Z5    Male   \n",
       "\n",
       "               Education    Salary Marital Status Loyalty Card      CLV  \\\n",
       "Loyalty Number                                                            \n",
       "480934          Bachelor   83236.0        Married         Star  3839.14   \n",
       "549612           College       NaN       Divorced         Star  3839.61   \n",
       "429460           College       NaN         Single         Star  3839.75   \n",
       "608370           College       NaN         Single         Star  3839.75   \n",
       "530508          Bachelor  103495.0        Married         Star  3842.79   \n",
       "\n",
       "               Enrollment Type  Enrollment Year  Enrollment Month  \\\n",
       "Loyalty Number                                                      \n",
       "480934                Standard             2016                 2   \n",
       "549612                Standard             2016                 3   \n",
       "429460                Standard             2014                 7   \n",
       "608370                Standard             2013                 2   \n",
       "530508                Standard             2014                10   \n",
       "\n",
       "                Cancellation Year  Cancellation Month  \n",
       "Loyalty Number                                         \n",
       "480934                        NaN                 NaN  \n",
       "549612                        NaN                 NaN  \n",
       "429460                     2018.0                 1.0  \n",
       "608370                        NaN                 NaN  \n",
       "530508                        NaN                 NaN  "
      ]
     },
     "execution_count": 85,
     "metadata": {},
     "output_type": "execute_result"
    }
   ],
   "source": [
    "df_cust_loyalty.head()"
   ]
  },
  {
   "cell_type": "code",
   "execution_count": 86,
   "metadata": {},
   "outputs": [
    {
     "data": {
      "text/plain": [
       "Index(['Year', 'Month', 'Flights Booked', 'Flights with Companions',\n",
       "       'Total Flights', 'Distance', 'Points Accumulated', 'Points Redeemed',\n",
       "       'Dollar Cost Points Redeemed'],\n",
       "      dtype='object')"
      ]
     },
     "execution_count": 86,
     "metadata": {},
     "output_type": "execute_result"
    }
   ],
   "source": [
    "df_cust_flight.columns"
   ]
  },
  {
   "cell_type": "code",
   "execution_count": 87,
   "metadata": {},
   "outputs": [
    {
     "data": {
      "text/plain": [
       "Index(['Country', 'Province', 'City', 'Postal Code', 'Gender', 'Education',\n",
       "       'Salary', 'Marital Status', 'Loyalty Card', 'CLV', 'Enrollment Type',\n",
       "       'Enrollment Year', 'Enrollment Month', 'Cancellation Year',\n",
       "       'Cancellation Month'],\n",
       "      dtype='object')"
      ]
     },
     "execution_count": 87,
     "metadata": {},
     "output_type": "execute_result"
    }
   ],
   "source": [
    "df_cust_loyalty.columns"
   ]
  },
  {
   "cell_type": "code",
   "execution_count": 88,
   "metadata": {},
   "outputs": [
    {
     "data": {
      "text/plain": [
       "(405624, 9)"
      ]
     },
     "execution_count": 88,
     "metadata": {},
     "output_type": "execute_result"
    }
   ],
   "source": [
    "df_cust_flight.shape"
   ]
  },
  {
   "cell_type": "code",
   "execution_count": 89,
   "metadata": {},
   "outputs": [
    {
     "data": {
      "text/plain": [
       "(16737, 15)"
      ]
     },
     "execution_count": 89,
     "metadata": {},
     "output_type": "execute_result"
    }
   ],
   "source": [
    "df_cust_loyalty.shape"
   ]
  },
  {
   "cell_type": "code",
   "execution_count": 90,
   "metadata": {},
   "outputs": [
    {
     "name": "stdout",
     "output_type": "stream",
     "text": [
      "<class 'pandas.core.frame.DataFrame'>\n",
      "Int64Index: 405624 entries, 100018 to 999986\n",
      "Data columns (total 9 columns):\n",
      " #   Column                       Non-Null Count   Dtype  \n",
      "---  ------                       --------------   -----  \n",
      " 0   Year                         405624 non-null  int64  \n",
      " 1   Month                        405624 non-null  int64  \n",
      " 2   Flights Booked               405624 non-null  int64  \n",
      " 3   Flights with Companions      405624 non-null  int64  \n",
      " 4   Total Flights                405624 non-null  int64  \n",
      " 5   Distance                     405624 non-null  int64  \n",
      " 6   Points Accumulated           405624 non-null  float64\n",
      " 7   Points Redeemed              405624 non-null  int64  \n",
      " 8   Dollar Cost Points Redeemed  405624 non-null  int64  \n",
      "dtypes: float64(1), int64(8)\n",
      "memory usage: 30.9 MB\n"
     ]
    }
   ],
   "source": [
    "df_cust_flight.info()"
   ]
  },
  {
   "cell_type": "code",
   "execution_count": 91,
   "metadata": {},
   "outputs": [
    {
     "name": "stdout",
     "output_type": "stream",
     "text": [
      "<class 'pandas.core.frame.DataFrame'>\n",
      "Int64Index: 16737 entries, 480934 to 652627\n",
      "Data columns (total 15 columns):\n",
      " #   Column              Non-Null Count  Dtype  \n",
      "---  ------              --------------  -----  \n",
      " 0   Country             16737 non-null  object \n",
      " 1   Province            16737 non-null  object \n",
      " 2   City                16737 non-null  object \n",
      " 3   Postal Code         16737 non-null  object \n",
      " 4   Gender              16737 non-null  object \n",
      " 5   Education           16737 non-null  object \n",
      " 6   Salary              12499 non-null  float64\n",
      " 7   Marital Status      16737 non-null  object \n",
      " 8   Loyalty Card        16737 non-null  object \n",
      " 9   CLV                 16737 non-null  float64\n",
      " 10  Enrollment Type     16737 non-null  object \n",
      " 11  Enrollment Year     16737 non-null  int64  \n",
      " 12  Enrollment Month    16737 non-null  int64  \n",
      " 13  Cancellation Year   2067 non-null   float64\n",
      " 14  Cancellation Month  2067 non-null   float64\n",
      "dtypes: float64(4), int64(2), object(9)\n",
      "memory usage: 2.0+ MB\n"
     ]
    }
   ],
   "source": [
    "df_cust_loyalty.info()"
   ]
  },
  {
   "cell_type": "code",
   "execution_count": 92,
   "metadata": {},
   "outputs": [
    {
     "data": {
      "text/plain": [
       "Year                           0\n",
       "Month                          0\n",
       "Flights Booked                 0\n",
       "Flights with Companions        0\n",
       "Total Flights                  0\n",
       "Distance                       0\n",
       "Points Accumulated             0\n",
       "Points Redeemed                0\n",
       "Dollar Cost Points Redeemed    0\n",
       "dtype: int64"
      ]
     },
     "execution_count": 92,
     "metadata": {},
     "output_type": "execute_result"
    }
   ],
   "source": [
    "df_cust_flight.isnull().sum()"
   ]
  },
  {
   "cell_type": "code",
   "execution_count": 93,
   "metadata": {},
   "outputs": [
    {
     "data": {
      "text/plain": [
       "Country                   0\n",
       "Province                  0\n",
       "City                      0\n",
       "Postal Code               0\n",
       "Gender                    0\n",
       "Education                 0\n",
       "Salary                 4238\n",
       "Marital Status            0\n",
       "Loyalty Card              0\n",
       "CLV                       0\n",
       "Enrollment Type           0\n",
       "Enrollment Year           0\n",
       "Enrollment Month          0\n",
       "Cancellation Year     14670\n",
       "Cancellation Month    14670\n",
       "dtype: int64"
      ]
     },
     "execution_count": 93,
     "metadata": {},
     "output_type": "execute_result"
    }
   ],
   "source": [
    "df_cust_loyalty.isnull().sum()"
   ]
  },
  {
   "cell_type": "code",
   "execution_count": 94,
   "metadata": {},
   "outputs": [
    {
     "data": {
      "text/plain": [
       "228705"
      ]
     },
     "execution_count": 94,
     "metadata": {},
     "output_type": "execute_result"
    }
   ],
   "source": [
    "df_cust_flight.duplicated().sum()"
   ]
  },
  {
   "cell_type": "code",
   "execution_count": 95,
   "metadata": {},
   "outputs": [
    {
     "data": {
      "text/plain": [
       "0"
      ]
     },
     "execution_count": 95,
     "metadata": {},
     "output_type": "execute_result"
    }
   ],
   "source": [
    "df_cust_loyalty.duplicated().sum()"
   ]
  },
  {
   "cell_type": "code",
   "execution_count": 96,
   "metadata": {},
   "outputs": [
    {
     "data": {
      "text/html": [
       "<div>\n",
       "<style scoped>\n",
       "    .dataframe tbody tr th:only-of-type {\n",
       "        vertical-align: middle;\n",
       "    }\n",
       "\n",
       "    .dataframe tbody tr th {\n",
       "        vertical-align: top;\n",
       "    }\n",
       "\n",
       "    .dataframe thead th {\n",
       "        text-align: right;\n",
       "    }\n",
       "</style>\n",
       "<table border=\"1\" class=\"dataframe\">\n",
       "  <thead>\n",
       "    <tr style=\"text-align: right;\">\n",
       "      <th></th>\n",
       "      <th>count</th>\n",
       "      <th>mean</th>\n",
       "      <th>std</th>\n",
       "      <th>min</th>\n",
       "      <th>25%</th>\n",
       "      <th>50%</th>\n",
       "      <th>75%</th>\n",
       "      <th>max</th>\n",
       "    </tr>\n",
       "  </thead>\n",
       "  <tbody>\n",
       "    <tr>\n",
       "      <th>Year</th>\n",
       "      <td>405624.0</td>\n",
       "      <td>2017.500000</td>\n",
       "      <td>0.500001</td>\n",
       "      <td>2017.0</td>\n",
       "      <td>2017.00</td>\n",
       "      <td>2017.5</td>\n",
       "      <td>2018.00</td>\n",
       "      <td>2018.0</td>\n",
       "    </tr>\n",
       "    <tr>\n",
       "      <th>Month</th>\n",
       "      <td>405624.0</td>\n",
       "      <td>6.500000</td>\n",
       "      <td>3.452057</td>\n",
       "      <td>1.0</td>\n",
       "      <td>3.75</td>\n",
       "      <td>6.5</td>\n",
       "      <td>9.25</td>\n",
       "      <td>12.0</td>\n",
       "    </tr>\n",
       "    <tr>\n",
       "      <th>Flights Booked</th>\n",
       "      <td>405624.0</td>\n",
       "      <td>4.115052</td>\n",
       "      <td>5.225518</td>\n",
       "      <td>0.0</td>\n",
       "      <td>0.00</td>\n",
       "      <td>1.0</td>\n",
       "      <td>8.00</td>\n",
       "      <td>21.0</td>\n",
       "    </tr>\n",
       "    <tr>\n",
       "      <th>Flights with Companions</th>\n",
       "      <td>405624.0</td>\n",
       "      <td>1.031805</td>\n",
       "      <td>2.076869</td>\n",
       "      <td>0.0</td>\n",
       "      <td>0.00</td>\n",
       "      <td>0.0</td>\n",
       "      <td>1.00</td>\n",
       "      <td>11.0</td>\n",
       "    </tr>\n",
       "    <tr>\n",
       "      <th>Total Flights</th>\n",
       "      <td>405624.0</td>\n",
       "      <td>5.146858</td>\n",
       "      <td>6.521227</td>\n",
       "      <td>0.0</td>\n",
       "      <td>0.00</td>\n",
       "      <td>1.0</td>\n",
       "      <td>10.00</td>\n",
       "      <td>32.0</td>\n",
       "    </tr>\n",
       "    <tr>\n",
       "      <th>Distance</th>\n",
       "      <td>405624.0</td>\n",
       "      <td>1208.880059</td>\n",
       "      <td>1433.155320</td>\n",
       "      <td>0.0</td>\n",
       "      <td>0.00</td>\n",
       "      <td>488.0</td>\n",
       "      <td>2336.00</td>\n",
       "      <td>6293.0</td>\n",
       "    </tr>\n",
       "    <tr>\n",
       "      <th>Points Accumulated</th>\n",
       "      <td>405624.0</td>\n",
       "      <td>123.692721</td>\n",
       "      <td>146.599831</td>\n",
       "      <td>0.0</td>\n",
       "      <td>0.00</td>\n",
       "      <td>50.0</td>\n",
       "      <td>239.00</td>\n",
       "      <td>676.5</td>\n",
       "    </tr>\n",
       "    <tr>\n",
       "      <th>Points Redeemed</th>\n",
       "      <td>405624.0</td>\n",
       "      <td>30.696872</td>\n",
       "      <td>125.486049</td>\n",
       "      <td>0.0</td>\n",
       "      <td>0.00</td>\n",
       "      <td>0.0</td>\n",
       "      <td>0.00</td>\n",
       "      <td>876.0</td>\n",
       "    </tr>\n",
       "    <tr>\n",
       "      <th>Dollar Cost Points Redeemed</th>\n",
       "      <td>405624.0</td>\n",
       "      <td>2.484503</td>\n",
       "      <td>10.150038</td>\n",
       "      <td>0.0</td>\n",
       "      <td>0.00</td>\n",
       "      <td>0.0</td>\n",
       "      <td>0.00</td>\n",
       "      <td>71.0</td>\n",
       "    </tr>\n",
       "  </tbody>\n",
       "</table>\n",
       "</div>"
      ],
      "text/plain": [
       "                                count         mean          std     min  \\\n",
       "Year                         405624.0  2017.500000     0.500001  2017.0   \n",
       "Month                        405624.0     6.500000     3.452057     1.0   \n",
       "Flights Booked               405624.0     4.115052     5.225518     0.0   \n",
       "Flights with Companions      405624.0     1.031805     2.076869     0.0   \n",
       "Total Flights                405624.0     5.146858     6.521227     0.0   \n",
       "Distance                     405624.0  1208.880059  1433.155320     0.0   \n",
       "Points Accumulated           405624.0   123.692721   146.599831     0.0   \n",
       "Points Redeemed              405624.0    30.696872   125.486049     0.0   \n",
       "Dollar Cost Points Redeemed  405624.0     2.484503    10.150038     0.0   \n",
       "\n",
       "                                 25%     50%      75%     max  \n",
       "Year                         2017.00  2017.5  2018.00  2018.0  \n",
       "Month                           3.75     6.5     9.25    12.0  \n",
       "Flights Booked                  0.00     1.0     8.00    21.0  \n",
       "Flights with Companions         0.00     0.0     1.00    11.0  \n",
       "Total Flights                   0.00     1.0    10.00    32.0  \n",
       "Distance                        0.00   488.0  2336.00  6293.0  \n",
       "Points Accumulated              0.00    50.0   239.00   676.5  \n",
       "Points Redeemed                 0.00     0.0     0.00   876.0  \n",
       "Dollar Cost Points Redeemed     0.00     0.0     0.00    71.0  "
      ]
     },
     "execution_count": 96,
     "metadata": {},
     "output_type": "execute_result"
    }
   ],
   "source": [
    "#Ahora realizo un análisis descriptivo de las columnas no numéricas del primer dataframe.\n",
    "\n",
    "df_cust_flight.select_dtypes(exclude='object').describe().T\n"
   ]
  },
  {
   "cell_type": "code",
   "execution_count": 97,
   "metadata": {},
   "outputs": [
    {
     "data": {
      "text/html": [
       "<div>\n",
       "<style scoped>\n",
       "    .dataframe tbody tr th:only-of-type {\n",
       "        vertical-align: middle;\n",
       "    }\n",
       "\n",
       "    .dataframe tbody tr th {\n",
       "        vertical-align: top;\n",
       "    }\n",
       "\n",
       "    .dataframe thead th {\n",
       "        text-align: right;\n",
       "    }\n",
       "</style>\n",
       "<table border=\"1\" class=\"dataframe\">\n",
       "  <thead>\n",
       "    <tr style=\"text-align: right;\">\n",
       "      <th></th>\n",
       "      <th>count</th>\n",
       "      <th>mean</th>\n",
       "      <th>std</th>\n",
       "      <th>min</th>\n",
       "      <th>25%</th>\n",
       "      <th>50%</th>\n",
       "      <th>75%</th>\n",
       "      <th>max</th>\n",
       "    </tr>\n",
       "  </thead>\n",
       "  <tbody>\n",
       "    <tr>\n",
       "      <th>Salary</th>\n",
       "      <td>12499.0</td>\n",
       "      <td>79245.609409</td>\n",
       "      <td>35008.297285</td>\n",
       "      <td>-58486.00</td>\n",
       "      <td>59246.50</td>\n",
       "      <td>73455.00</td>\n",
       "      <td>88517.50</td>\n",
       "      <td>407228.00</td>\n",
       "    </tr>\n",
       "    <tr>\n",
       "      <th>CLV</th>\n",
       "      <td>16737.0</td>\n",
       "      <td>7988.896536</td>\n",
       "      <td>6860.982280</td>\n",
       "      <td>1898.01</td>\n",
       "      <td>3980.84</td>\n",
       "      <td>5780.18</td>\n",
       "      <td>8940.58</td>\n",
       "      <td>83325.38</td>\n",
       "    </tr>\n",
       "    <tr>\n",
       "      <th>Enrollment Year</th>\n",
       "      <td>16737.0</td>\n",
       "      <td>2015.253211</td>\n",
       "      <td>1.979111</td>\n",
       "      <td>2012.00</td>\n",
       "      <td>2014.00</td>\n",
       "      <td>2015.00</td>\n",
       "      <td>2017.00</td>\n",
       "      <td>2018.00</td>\n",
       "    </tr>\n",
       "    <tr>\n",
       "      <th>Enrollment Month</th>\n",
       "      <td>16737.0</td>\n",
       "      <td>6.669116</td>\n",
       "      <td>3.398958</td>\n",
       "      <td>1.00</td>\n",
       "      <td>4.00</td>\n",
       "      <td>7.00</td>\n",
       "      <td>10.00</td>\n",
       "      <td>12.00</td>\n",
       "    </tr>\n",
       "    <tr>\n",
       "      <th>Cancellation Year</th>\n",
       "      <td>2067.0</td>\n",
       "      <td>2016.503145</td>\n",
       "      <td>1.380743</td>\n",
       "      <td>2013.00</td>\n",
       "      <td>2016.00</td>\n",
       "      <td>2017.00</td>\n",
       "      <td>2018.00</td>\n",
       "      <td>2018.00</td>\n",
       "    </tr>\n",
       "    <tr>\n",
       "      <th>Cancellation Month</th>\n",
       "      <td>2067.0</td>\n",
       "      <td>6.962748</td>\n",
       "      <td>3.455297</td>\n",
       "      <td>1.00</td>\n",
       "      <td>4.00</td>\n",
       "      <td>7.00</td>\n",
       "      <td>10.00</td>\n",
       "      <td>12.00</td>\n",
       "    </tr>\n",
       "  </tbody>\n",
       "</table>\n",
       "</div>"
      ],
      "text/plain": [
       "                      count          mean           std       min       25%  \\\n",
       "Salary              12499.0  79245.609409  35008.297285 -58486.00  59246.50   \n",
       "CLV                 16737.0   7988.896536   6860.982280   1898.01   3980.84   \n",
       "Enrollment Year     16737.0   2015.253211      1.979111   2012.00   2014.00   \n",
       "Enrollment Month    16737.0      6.669116      3.398958      1.00      4.00   \n",
       "Cancellation Year    2067.0   2016.503145      1.380743   2013.00   2016.00   \n",
       "Cancellation Month   2067.0      6.962748      3.455297      1.00      4.00   \n",
       "\n",
       "                         50%       75%        max  \n",
       "Salary              73455.00  88517.50  407228.00  \n",
       "CLV                  5780.18   8940.58   83325.38  \n",
       "Enrollment Year      2015.00   2017.00    2018.00  \n",
       "Enrollment Month        7.00     10.00      12.00  \n",
       "Cancellation Year    2017.00   2018.00    2018.00  \n",
       "Cancellation Month      7.00     10.00      12.00  "
      ]
     },
     "execution_count": 97,
     "metadata": {},
     "output_type": "execute_result"
    }
   ],
   "source": [
    "#Repito la misma operación que hice con el primer dataframe.\n",
    "\n",
    "df_cust_loyalty.select_dtypes(exclude='object').describe().T"
   ]
  },
  {
   "cell_type": "code",
   "execution_count": 98,
   "metadata": {},
   "outputs": [
    {
     "data": {
      "text/html": [
       "<div>\n",
       "<style scoped>\n",
       "    .dataframe tbody tr th:only-of-type {\n",
       "        vertical-align: middle;\n",
       "    }\n",
       "\n",
       "    .dataframe tbody tr th {\n",
       "        vertical-align: top;\n",
       "    }\n",
       "\n",
       "    .dataframe thead th {\n",
       "        text-align: right;\n",
       "    }\n",
       "</style>\n",
       "<table border=\"1\" class=\"dataframe\">\n",
       "  <thead>\n",
       "    <tr style=\"text-align: right;\">\n",
       "      <th></th>\n",
       "      <th>Year</th>\n",
       "      <th>Month</th>\n",
       "      <th>Flights Booked</th>\n",
       "      <th>Flights with Companions</th>\n",
       "      <th>Total Flights</th>\n",
       "      <th>Distance</th>\n",
       "      <th>Points Accumulated</th>\n",
       "      <th>Points Redeemed</th>\n",
       "      <th>Dollar Cost Points Redeemed</th>\n",
       "      <th>Country</th>\n",
       "      <th>Province</th>\n",
       "      <th>City</th>\n",
       "      <th>Postal Code</th>\n",
       "      <th>Gender</th>\n",
       "      <th>Education</th>\n",
       "      <th>Salary</th>\n",
       "      <th>Marital Status</th>\n",
       "      <th>Loyalty Card</th>\n",
       "      <th>CLV</th>\n",
       "      <th>Enrollment Type</th>\n",
       "      <th>Enrollment Year</th>\n",
       "      <th>Enrollment Month</th>\n",
       "      <th>Cancellation Year</th>\n",
       "      <th>Cancellation Month</th>\n",
       "    </tr>\n",
       "    <tr>\n",
       "      <th>Loyalty Number</th>\n",
       "      <th></th>\n",
       "      <th></th>\n",
       "      <th></th>\n",
       "      <th></th>\n",
       "      <th></th>\n",
       "      <th></th>\n",
       "      <th></th>\n",
       "      <th></th>\n",
       "      <th></th>\n",
       "      <th></th>\n",
       "      <th></th>\n",
       "      <th></th>\n",
       "      <th></th>\n",
       "      <th></th>\n",
       "      <th></th>\n",
       "      <th></th>\n",
       "      <th></th>\n",
       "      <th></th>\n",
       "      <th></th>\n",
       "      <th></th>\n",
       "      <th></th>\n",
       "      <th></th>\n",
       "      <th></th>\n",
       "      <th></th>\n",
       "    </tr>\n",
       "  </thead>\n",
       "  <tbody>\n",
       "    <tr>\n",
       "      <th>100018</th>\n",
       "      <td>2017</td>\n",
       "      <td>1</td>\n",
       "      <td>3</td>\n",
       "      <td>0</td>\n",
       "      <td>3</td>\n",
       "      <td>1521</td>\n",
       "      <td>152.0</td>\n",
       "      <td>0</td>\n",
       "      <td>0</td>\n",
       "      <td>Canada</td>\n",
       "      <td>Alberta</td>\n",
       "      <td>Edmonton</td>\n",
       "      <td>T9G 1W3</td>\n",
       "      <td>Female</td>\n",
       "      <td>Bachelor</td>\n",
       "      <td>92552.0</td>\n",
       "      <td>Married</td>\n",
       "      <td>Aurora</td>\n",
       "      <td>7919.20</td>\n",
       "      <td>Standard</td>\n",
       "      <td>2016</td>\n",
       "      <td>8</td>\n",
       "      <td>NaN</td>\n",
       "      <td>NaN</td>\n",
       "    </tr>\n",
       "    <tr>\n",
       "      <th>100018</th>\n",
       "      <td>2017</td>\n",
       "      <td>2</td>\n",
       "      <td>2</td>\n",
       "      <td>2</td>\n",
       "      <td>4</td>\n",
       "      <td>1320</td>\n",
       "      <td>132.0</td>\n",
       "      <td>0</td>\n",
       "      <td>0</td>\n",
       "      <td>Canada</td>\n",
       "      <td>Alberta</td>\n",
       "      <td>Edmonton</td>\n",
       "      <td>T9G 1W3</td>\n",
       "      <td>Female</td>\n",
       "      <td>Bachelor</td>\n",
       "      <td>92552.0</td>\n",
       "      <td>Married</td>\n",
       "      <td>Aurora</td>\n",
       "      <td>7919.20</td>\n",
       "      <td>Standard</td>\n",
       "      <td>2016</td>\n",
       "      <td>8</td>\n",
       "      <td>NaN</td>\n",
       "      <td>NaN</td>\n",
       "    </tr>\n",
       "    <tr>\n",
       "      <th>100018</th>\n",
       "      <td>2018</td>\n",
       "      <td>10</td>\n",
       "      <td>6</td>\n",
       "      <td>4</td>\n",
       "      <td>10</td>\n",
       "      <td>3110</td>\n",
       "      <td>311.0</td>\n",
       "      <td>385</td>\n",
       "      <td>31</td>\n",
       "      <td>Canada</td>\n",
       "      <td>Alberta</td>\n",
       "      <td>Edmonton</td>\n",
       "      <td>T9G 1W3</td>\n",
       "      <td>Female</td>\n",
       "      <td>Bachelor</td>\n",
       "      <td>92552.0</td>\n",
       "      <td>Married</td>\n",
       "      <td>Aurora</td>\n",
       "      <td>7919.20</td>\n",
       "      <td>Standard</td>\n",
       "      <td>2016</td>\n",
       "      <td>8</td>\n",
       "      <td>NaN</td>\n",
       "      <td>NaN</td>\n",
       "    </tr>\n",
       "    <tr>\n",
       "      <th>100018</th>\n",
       "      <td>2017</td>\n",
       "      <td>4</td>\n",
       "      <td>4</td>\n",
       "      <td>0</td>\n",
       "      <td>4</td>\n",
       "      <td>924</td>\n",
       "      <td>92.0</td>\n",
       "      <td>0</td>\n",
       "      <td>0</td>\n",
       "      <td>Canada</td>\n",
       "      <td>Alberta</td>\n",
       "      <td>Edmonton</td>\n",
       "      <td>T9G 1W3</td>\n",
       "      <td>Female</td>\n",
       "      <td>Bachelor</td>\n",
       "      <td>92552.0</td>\n",
       "      <td>Married</td>\n",
       "      <td>Aurora</td>\n",
       "      <td>7919.20</td>\n",
       "      <td>Standard</td>\n",
       "      <td>2016</td>\n",
       "      <td>8</td>\n",
       "      <td>NaN</td>\n",
       "      <td>NaN</td>\n",
       "    </tr>\n",
       "    <tr>\n",
       "      <th>100018</th>\n",
       "      <td>2017</td>\n",
       "      <td>5</td>\n",
       "      <td>0</td>\n",
       "      <td>0</td>\n",
       "      <td>0</td>\n",
       "      <td>0</td>\n",
       "      <td>0.0</td>\n",
       "      <td>0</td>\n",
       "      <td>0</td>\n",
       "      <td>Canada</td>\n",
       "      <td>Alberta</td>\n",
       "      <td>Edmonton</td>\n",
       "      <td>T9G 1W3</td>\n",
       "      <td>Female</td>\n",
       "      <td>Bachelor</td>\n",
       "      <td>92552.0</td>\n",
       "      <td>Married</td>\n",
       "      <td>Aurora</td>\n",
       "      <td>7919.20</td>\n",
       "      <td>Standard</td>\n",
       "      <td>2016</td>\n",
       "      <td>8</td>\n",
       "      <td>NaN</td>\n",
       "      <td>NaN</td>\n",
       "    </tr>\n",
       "    <tr>\n",
       "      <th>...</th>\n",
       "      <td>...</td>\n",
       "      <td>...</td>\n",
       "      <td>...</td>\n",
       "      <td>...</td>\n",
       "      <td>...</td>\n",
       "      <td>...</td>\n",
       "      <td>...</td>\n",
       "      <td>...</td>\n",
       "      <td>...</td>\n",
       "      <td>...</td>\n",
       "      <td>...</td>\n",
       "      <td>...</td>\n",
       "      <td>...</td>\n",
       "      <td>...</td>\n",
       "      <td>...</td>\n",
       "      <td>...</td>\n",
       "      <td>...</td>\n",
       "      <td>...</td>\n",
       "      <td>...</td>\n",
       "      <td>...</td>\n",
       "      <td>...</td>\n",
       "      <td>...</td>\n",
       "      <td>...</td>\n",
       "      <td>...</td>\n",
       "    </tr>\n",
       "    <tr>\n",
       "      <th>999986</th>\n",
       "      <td>2018</td>\n",
       "      <td>7</td>\n",
       "      <td>15</td>\n",
       "      <td>0</td>\n",
       "      <td>15</td>\n",
       "      <td>1995</td>\n",
       "      <td>199.0</td>\n",
       "      <td>0</td>\n",
       "      <td>0</td>\n",
       "      <td>Canada</td>\n",
       "      <td>Ontario</td>\n",
       "      <td>Ottawa</td>\n",
       "      <td>K1F 2R2</td>\n",
       "      <td>Female</td>\n",
       "      <td>Bachelor</td>\n",
       "      <td>46594.0</td>\n",
       "      <td>Married</td>\n",
       "      <td>Nova</td>\n",
       "      <td>8257.01</td>\n",
       "      <td>2018 Promotion</td>\n",
       "      <td>2018</td>\n",
       "      <td>2</td>\n",
       "      <td>NaN</td>\n",
       "      <td>NaN</td>\n",
       "    </tr>\n",
       "    <tr>\n",
       "      <th>999986</th>\n",
       "      <td>2018</td>\n",
       "      <td>9</td>\n",
       "      <td>0</td>\n",
       "      <td>0</td>\n",
       "      <td>0</td>\n",
       "      <td>0</td>\n",
       "      <td>0.0</td>\n",
       "      <td>0</td>\n",
       "      <td>0</td>\n",
       "      <td>Canada</td>\n",
       "      <td>Ontario</td>\n",
       "      <td>Ottawa</td>\n",
       "      <td>K1F 2R2</td>\n",
       "      <td>Female</td>\n",
       "      <td>Bachelor</td>\n",
       "      <td>46594.0</td>\n",
       "      <td>Married</td>\n",
       "      <td>Nova</td>\n",
       "      <td>8257.01</td>\n",
       "      <td>2018 Promotion</td>\n",
       "      <td>2018</td>\n",
       "      <td>2</td>\n",
       "      <td>NaN</td>\n",
       "      <td>NaN</td>\n",
       "    </tr>\n",
       "    <tr>\n",
       "      <th>999986</th>\n",
       "      <td>2018</td>\n",
       "      <td>10</td>\n",
       "      <td>6</td>\n",
       "      <td>0</td>\n",
       "      <td>6</td>\n",
       "      <td>708</td>\n",
       "      <td>70.0</td>\n",
       "      <td>0</td>\n",
       "      <td>0</td>\n",
       "      <td>Canada</td>\n",
       "      <td>Ontario</td>\n",
       "      <td>Ottawa</td>\n",
       "      <td>K1F 2R2</td>\n",
       "      <td>Female</td>\n",
       "      <td>Bachelor</td>\n",
       "      <td>46594.0</td>\n",
       "      <td>Married</td>\n",
       "      <td>Nova</td>\n",
       "      <td>8257.01</td>\n",
       "      <td>2018 Promotion</td>\n",
       "      <td>2018</td>\n",
       "      <td>2</td>\n",
       "      <td>NaN</td>\n",
       "      <td>NaN</td>\n",
       "    </tr>\n",
       "    <tr>\n",
       "      <th>999986</th>\n",
       "      <td>2018</td>\n",
       "      <td>11</td>\n",
       "      <td>11</td>\n",
       "      <td>4</td>\n",
       "      <td>15</td>\n",
       "      <td>2040</td>\n",
       "      <td>204.0</td>\n",
       "      <td>0</td>\n",
       "      <td>0</td>\n",
       "      <td>Canada</td>\n",
       "      <td>Ontario</td>\n",
       "      <td>Ottawa</td>\n",
       "      <td>K1F 2R2</td>\n",
       "      <td>Female</td>\n",
       "      <td>Bachelor</td>\n",
       "      <td>46594.0</td>\n",
       "      <td>Married</td>\n",
       "      <td>Nova</td>\n",
       "      <td>8257.01</td>\n",
       "      <td>2018 Promotion</td>\n",
       "      <td>2018</td>\n",
       "      <td>2</td>\n",
       "      <td>NaN</td>\n",
       "      <td>NaN</td>\n",
       "    </tr>\n",
       "    <tr>\n",
       "      <th>999986</th>\n",
       "      <td>2018</td>\n",
       "      <td>12</td>\n",
       "      <td>0</td>\n",
       "      <td>0</td>\n",
       "      <td>0</td>\n",
       "      <td>0</td>\n",
       "      <td>0.0</td>\n",
       "      <td>0</td>\n",
       "      <td>0</td>\n",
       "      <td>Canada</td>\n",
       "      <td>Ontario</td>\n",
       "      <td>Ottawa</td>\n",
       "      <td>K1F 2R2</td>\n",
       "      <td>Female</td>\n",
       "      <td>Bachelor</td>\n",
       "      <td>46594.0</td>\n",
       "      <td>Married</td>\n",
       "      <td>Nova</td>\n",
       "      <td>8257.01</td>\n",
       "      <td>2018 Promotion</td>\n",
       "      <td>2018</td>\n",
       "      <td>2</td>\n",
       "      <td>NaN</td>\n",
       "      <td>NaN</td>\n",
       "    </tr>\n",
       "  </tbody>\n",
       "</table>\n",
       "<p>405624 rows × 24 columns</p>\n",
       "</div>"
      ],
      "text/plain": [
       "                Year  Month  Flights Booked  Flights with Companions  \\\n",
       "Loyalty Number                                                         \n",
       "100018          2017      1               3                        0   \n",
       "100018          2017      2               2                        2   \n",
       "100018          2018     10               6                        4   \n",
       "100018          2017      4               4                        0   \n",
       "100018          2017      5               0                        0   \n",
       "...              ...    ...             ...                      ...   \n",
       "999986          2018      7              15                        0   \n",
       "999986          2018      9               0                        0   \n",
       "999986          2018     10               6                        0   \n",
       "999986          2018     11              11                        4   \n",
       "999986          2018     12               0                        0   \n",
       "\n",
       "                Total Flights  Distance  Points Accumulated  Points Redeemed  \\\n",
       "Loyalty Number                                                                 \n",
       "100018                      3      1521               152.0                0   \n",
       "100018                      4      1320               132.0                0   \n",
       "100018                     10      3110               311.0              385   \n",
       "100018                      4       924                92.0                0   \n",
       "100018                      0         0                 0.0                0   \n",
       "...                       ...       ...                 ...              ...   \n",
       "999986                     15      1995               199.0                0   \n",
       "999986                      0         0                 0.0                0   \n",
       "999986                      6       708                70.0                0   \n",
       "999986                     15      2040               204.0                0   \n",
       "999986                      0         0                 0.0                0   \n",
       "\n",
       "                Dollar Cost Points Redeemed Country Province      City  \\\n",
       "Loyalty Number                                                           \n",
       "100018                                    0  Canada  Alberta  Edmonton   \n",
       "100018                                    0  Canada  Alberta  Edmonton   \n",
       "100018                                   31  Canada  Alberta  Edmonton   \n",
       "100018                                    0  Canada  Alberta  Edmonton   \n",
       "100018                                    0  Canada  Alberta  Edmonton   \n",
       "...                                     ...     ...      ...       ...   \n",
       "999986                                    0  Canada  Ontario    Ottawa   \n",
       "999986                                    0  Canada  Ontario    Ottawa   \n",
       "999986                                    0  Canada  Ontario    Ottawa   \n",
       "999986                                    0  Canada  Ontario    Ottawa   \n",
       "999986                                    0  Canada  Ontario    Ottawa   \n",
       "\n",
       "               Postal Code  Gender Education   Salary Marital Status  \\\n",
       "Loyalty Number                                                         \n",
       "100018             T9G 1W3  Female  Bachelor  92552.0        Married   \n",
       "100018             T9G 1W3  Female  Bachelor  92552.0        Married   \n",
       "100018             T9G 1W3  Female  Bachelor  92552.0        Married   \n",
       "100018             T9G 1W3  Female  Bachelor  92552.0        Married   \n",
       "100018             T9G 1W3  Female  Bachelor  92552.0        Married   \n",
       "...                    ...     ...       ...      ...            ...   \n",
       "999986             K1F 2R2  Female  Bachelor  46594.0        Married   \n",
       "999986             K1F 2R2  Female  Bachelor  46594.0        Married   \n",
       "999986             K1F 2R2  Female  Bachelor  46594.0        Married   \n",
       "999986             K1F 2R2  Female  Bachelor  46594.0        Married   \n",
       "999986             K1F 2R2  Female  Bachelor  46594.0        Married   \n",
       "\n",
       "               Loyalty Card      CLV Enrollment Type  Enrollment Year  \\\n",
       "Loyalty Number                                                          \n",
       "100018               Aurora  7919.20        Standard             2016   \n",
       "100018               Aurora  7919.20        Standard             2016   \n",
       "100018               Aurora  7919.20        Standard             2016   \n",
       "100018               Aurora  7919.20        Standard             2016   \n",
       "100018               Aurora  7919.20        Standard             2016   \n",
       "...                     ...      ...             ...              ...   \n",
       "999986                 Nova  8257.01  2018 Promotion             2018   \n",
       "999986                 Nova  8257.01  2018 Promotion             2018   \n",
       "999986                 Nova  8257.01  2018 Promotion             2018   \n",
       "999986                 Nova  8257.01  2018 Promotion             2018   \n",
       "999986                 Nova  8257.01  2018 Promotion             2018   \n",
       "\n",
       "                Enrollment Month  Cancellation Year  Cancellation Month  \n",
       "Loyalty Number                                                           \n",
       "100018                         8                NaN                 NaN  \n",
       "100018                         8                NaN                 NaN  \n",
       "100018                         8                NaN                 NaN  \n",
       "100018                         8                NaN                 NaN  \n",
       "100018                         8                NaN                 NaN  \n",
       "...                          ...                ...                 ...  \n",
       "999986                         2                NaN                 NaN  \n",
       "999986                         2                NaN                 NaN  \n",
       "999986                         2                NaN                 NaN  \n",
       "999986                         2                NaN                 NaN  \n",
       "999986                         2                NaN                 NaN  \n",
       "\n",
       "[405624 rows x 24 columns]"
      ]
     },
     "execution_count": 98,
     "metadata": {},
     "output_type": "execute_result"
    }
   ],
   "source": [
    "#Después de realizar la exploración de los dos csvs, comprobando los nulos, duplicados, nombres de columnas, las estadísticas básicas, etc...\n",
    "#Ya sé donde hay nulos y duplicados y donde tengo que realizar la limpieza. Aún así, paso a fusionar los csv por le índice llamado Loyalty Number porque\n",
    "#se da en ambos csvs y me parece la forma más eficicaz de unirlos.\n",
    "\n",
    "# Paso a fusionar los dataframes por el índice \"Loyalty Number porque son los ids de los clientes y me interesan los clientes de ambas bases de datos.\n",
    "df_final = pd.merge(df_cust_flight, df_cust_loyalty, left_index=True, right_index=True, how='inner') #Indico que la fusión se realizará por ambos índices\n",
    "\n",
    "df_final\n"
   ]
  },
  {
   "cell_type": "code",
   "execution_count": 99,
   "metadata": {},
   "outputs": [
    {
     "data": {
      "text/plain": [
       "(405624, 24)"
      ]
     },
     "execution_count": 99,
     "metadata": {},
     "output_type": "execute_result"
    }
   ],
   "source": [
    "#Compruebo que se han unido ambos dataframes.\n",
    "\n",
    "df_final.shape  "
   ]
  },
  {
   "cell_type": "markdown",
   "metadata": {},
   "source": [
    "2.Limpieza de datos: \n",
    "\n",
    "*Elimina o trata los valores nulos, si los hay, en las columnas clave para asegurar que los datos estén completos.\n",
    "\n",
    "*Verifica la consistencia y corrección de los datos para asegurarte de que los datos se presenten de forma coherente.\n",
    "\n",
    "*Realiza cualquier ajuste o conversión necesaria en las columnas (por ejemplo, cambiar tipos de datos) para garantizar la adecuación de los datos para el análisis estadístico."
   ]
  },
  {
   "cell_type": "code",
   "execution_count": 100,
   "metadata": {},
   "outputs": [
    {
     "data": {
      "text/plain": [
       "Year                             int64\n",
       "Month                            int64\n",
       "Flights Booked                   int64\n",
       "Flights with Companions          int64\n",
       "Total Flights                    int64\n",
       "Distance                         int64\n",
       "Points Accumulated             float64\n",
       "Points Redeemed                  int64\n",
       "Dollar Cost Points Redeemed      int64\n",
       "Country                         object\n",
       "Province                        object\n",
       "City                            object\n",
       "Postal Code                     object\n",
       "Gender                          object\n",
       "Education                       object\n",
       "Salary                         float64\n",
       "Marital Status                  object\n",
       "Loyalty Card                    object\n",
       "CLV                            float64\n",
       "Enrollment Type                 object\n",
       "Enrollment Year                  int64\n",
       "Enrollment Month                 int64\n",
       "Cancellation Year              float64\n",
       "Cancellation Month             float64\n",
       "dtype: object"
      ]
     },
     "execution_count": 100,
     "metadata": {},
     "output_type": "execute_result"
    }
   ],
   "source": [
    "#Después de la fusión quiero ver que tipos de datos tengo en cada columna.\n",
    "\n",
    "df_final.dtypes"
   ]
  },
  {
   "cell_type": "code",
   "execution_count": 101,
   "metadata": {},
   "outputs": [
    {
     "data": {
      "text/plain": [
       "Year                                0\n",
       "Month                               0\n",
       "Flights Booked                      0\n",
       "Flights with Companions             0\n",
       "Total Flights                       0\n",
       "Distance                            0\n",
       "Points Accumulated                  0\n",
       "Points Redeemed                     0\n",
       "Dollar Cost Points Redeemed         0\n",
       "Country                             0\n",
       "Province                            0\n",
       "City                                0\n",
       "Postal Code                         0\n",
       "Gender                              0\n",
       "Education                           0\n",
       "Salary                         102672\n",
       "Marital Status                      0\n",
       "Loyalty Card                        0\n",
       "CLV                                 0\n",
       "Enrollment Type                     0\n",
       "Enrollment Year                     0\n",
       "Enrollment Month                    0\n",
       "Cancellation Year              355560\n",
       "Cancellation Month             355560\n",
       "dtype: int64"
      ]
     },
     "execution_count": 101,
     "metadata": {},
     "output_type": "execute_result"
    }
   ],
   "source": [
    "#Con este código veo los nulos totales que tengo y en qué columnas los tengo.\n",
    "\n",
    "df_final.isnull().sum()"
   ]
  },
  {
   "cell_type": "code",
   "execution_count": 102,
   "metadata": {},
   "outputs": [
    {
     "data": {
      "text/plain": [
       " 101933.0    552\n",
       " 61809.0     336\n",
       " 62283.0     336\n",
       " 51573.0     336\n",
       " 81765.0     312\n",
       "            ... \n",
       "-31911.0      24\n",
       " 64630.0      24\n",
       " 77950.0      24\n",
       " 85525.0      24\n",
       " 46594.0      24\n",
       "Name: Salary, Length: 5890, dtype: int64"
      ]
     },
     "execution_count": 102,
     "metadata": {},
     "output_type": "execute_result"
    }
   ],
   "source": [
    "\n",
    "#Voy a pasar a gestionar los nulos que tengo en las columnas de Salary, Cancellation Year y Cancellation Month.\n",
    "\n",
    "#Antes de tratar los nulos hay que ver los valores que tiene cada columna en concreto, empiezo por Salary y compruebo que en esta columna hay salarios negativos.\n",
    "\n",
    "df_final [\"Salary\"].value_counts()"
   ]
  },
  {
   "cell_type": "code",
   "execution_count": null,
   "metadata": {},
   "outputs": [],
   "source": [
    "#Dado a que esta columna ya tenía una cantidad considerable de nulos y que no sé la razón de los números negativos, decido pasarlos a nulos."
   ]
  },
  {
   "cell_type": "code",
   "execution_count": 103,
   "metadata": {},
   "outputs": [],
   "source": [
    "#Con este código pasamos reemplazamos los valores negativos por None y deja los demás sin cambios. \n",
    "#\n",
    "\n",
    "\n",
    "df_final[\"Salary\"]=df_final[\"Salary\"].mask(df_final[\"Salary\"]<0, None)"
   ]
  },
  {
   "cell_type": "code",
   "execution_count": 104,
   "metadata": {},
   "outputs": [
    {
     "data": {
      "text/plain": [
       "101933.0    552\n",
       "51573.0     336\n",
       "62283.0     336\n",
       "61809.0     336\n",
       "76159.0     312\n",
       "           ... \n",
       "54508.0      24\n",
       "90521.0      24\n",
       "80129.0      24\n",
       "39943.0      24\n",
       "46594.0      24\n",
       "Name: Salary, Length: 5870, dtype: int64"
      ]
     },
     "execution_count": 104,
     "metadata": {},
     "output_type": "execute_result"
    }
   ],
   "source": [
    "df_final [\"Salary\"].value_counts() #Compruebo que ya no hay valores negativos en la columna Salary."
   ]
  },
  {
   "cell_type": "code",
   "execution_count": 106,
   "metadata": {},
   "outputs": [
    {
     "name": "stdout",
     "output_type": "stream",
     "text": [
      "No hay valores negativos en la columna 'Salary'.\n"
     ]
    }
   ],
   "source": [
    "valores_negativos = df_final[\"Salary\"] < 0\n",
    "\n",
    "cantidad_valores_negativos = valores_negativos.sum()\n",
    "\n",
    "if cantidad_valores_negativos == 0:\n",
    "    print(\"No hay valores negativos en la columna 'Salary'.\")\n",
    "else:\n",
    "    print(f\"Hay {cantidad_valores_negativos} valores negativos en la columna 'Salary'.\")\n"
   ]
  },
  {
   "cell_type": "code",
   "execution_count": 109,
   "metadata": {},
   "outputs": [],
   "source": [
    "#Para completar los valores nulos que tengo en la columna salario, decido hacer una mediana porque esta medida es más fidedigna a la hora de hblar de sueldos.\n",
    "\n",
    "mediana_salario = df_final['Salary'].median()\n",
    "df_final['Salary'].fillna(mediana_salario, inplace=True)"
   ]
  },
  {
   "cell_type": "code",
   "execution_count": 110,
   "metadata": {},
   "outputs": [
    {
     "data": {
      "text/plain": [
       "0"
      ]
     },
     "execution_count": 110,
     "metadata": {},
     "output_type": "execute_result"
    }
   ],
   "source": [
    "df_final [\"Salary\"].isnull().sum()"
   ]
  },
  {
   "cell_type": "code",
   "execution_count": 111,
   "metadata": {},
   "outputs": [
    {
     "data": {
      "text/plain": [
       "405624"
      ]
     },
     "execution_count": 111,
     "metadata": {},
     "output_type": "execute_result"
    }
   ],
   "source": [
    "df_final [\"Salary\"].value_counts().sum() #Compruebo que se han completado los valores nulos ya que tengo el mismo número de filas y 0 valores nulos según el código anterior."
   ]
  },
  {
   "cell_type": "code",
   "execution_count": 112,
   "metadata": {},
   "outputs": [
    {
     "data": {
      "text/plain": [
       "2018.0    15648\n",
       "2017.0    12192\n",
       "2016.0    10272\n",
       "2015.0     6480\n",
       "2014.0     4416\n",
       "2013.0     1056\n",
       "Name: Cancellation Year, dtype: int64"
      ]
     },
     "execution_count": 112,
     "metadata": {},
     "output_type": "execute_result"
    }
   ],
   "source": [
    "\n",
    "df_final [\"Cancellation Year\"].value_counts()"
   ]
  },
  {
   "cell_type": "code",
   "execution_count": 113,
   "metadata": {},
   "outputs": [
    {
     "data": {
      "text/plain": [
       "355560"
      ]
     },
     "execution_count": 113,
     "metadata": {},
     "output_type": "execute_result"
    }
   ],
   "source": [
    "#Esta columna tiene una gran cantidad de valores nulos#\n",
    "df_final [\"Cancellation Year\"].isnull().sum()"
   ]
  },
  {
   "cell_type": "code",
   "execution_count": 114,
   "metadata": {},
   "outputs": [],
   "source": [
    "#Con este código rellenamos los valores nulos con el número 0. Y con el inplace se modifica, directamente, el dataframe df_final.\n",
    "df_final[\"Cancellation Year\"].fillna(0, inplace=True)"
   ]
  },
  {
   "cell_type": "code",
   "execution_count": 44,
   "metadata": {},
   "outputs": [
    {
     "data": {
      "text/plain": [
       "0"
      ]
     },
     "execution_count": 44,
     "metadata": {},
     "output_type": "execute_result"
    }
   ],
   "source": [
    "df_final[\"Cancellation Year\"].isnull().sum()"
   ]
  },
  {
   "cell_type": "code",
   "execution_count": 122,
   "metadata": {},
   "outputs": [
    {
     "name": "stdout",
     "output_type": "stream",
     "text": [
      "No hay valores nulos en la columna 'Cancellation Year'.\n"
     ]
    }
   ],
   "source": [
    "#Con este código nos asegura que la operación de rellenado ha funcionado.\n",
    "\n",
    "valores_nulos_despues = df_final[\"Cancellation Year\"].isnull().sum()\n",
    "\n",
    "if valores_nulos_despues == 0:\n",
    "    print(\"No hay valores nulos en la columna 'Cancellation Year'.\")\n",
    "else:\n",
    "    print(f\"Hay {valores_nulos_despues} valores nulos en la columna 'Cancellation Year'.\")"
   ]
  },
  {
   "cell_type": "code",
   "execution_count": 124,
   "metadata": {},
   "outputs": [],
   "source": [
    "#Hago lo mismo con cancellation month \n",
    "\n",
    "df_final[\"Cancellation Month\"].fillna(0, inplace=True)"
   ]
  },
  {
   "cell_type": "code",
   "execution_count": 125,
   "metadata": {},
   "outputs": [
    {
     "data": {
      "text/plain": [
       "0"
      ]
     },
     "execution_count": 125,
     "metadata": {},
     "output_type": "execute_result"
    }
   ],
   "source": [
    "df_final[\"Cancellation Month\"].isnull().sum()"
   ]
  },
  {
   "cell_type": "code",
   "execution_count": 126,
   "metadata": {},
   "outputs": [
    {
     "name": "stdout",
     "output_type": "stream",
     "text": [
      "No hay valores nulos en la columna 'Cancellation Month'.\n"
     ]
    }
   ],
   "source": [
    "valores_nulos_despues = df_final[\"Cancellation Month\"].isnull().sum()\n",
    "\n",
    "if valores_nulos_despues == 0:\n",
    "    print(\"No hay valores nulos en la columna 'Cancellation Month'.\")\n",
    "else:\n",
    "    print(f\"Hay {valores_nulos_despues} valores nulos en la columna 'Cancellation Month'.\")"
   ]
  },
  {
   "cell_type": "code",
   "execution_count": 25,
   "metadata": {},
   "outputs": [
    {
     "data": {
      "text/plain": [
       "1864"
      ]
     },
     "execution_count": 25,
     "metadata": {},
     "output_type": "execute_result"
    }
   ],
   "source": [
    "#Paso a ver los duplicados\n",
    "\n",
    "df_final.duplicated().sum()"
   ]
  },
  {
   "cell_type": "code",
   "execution_count": 48,
   "metadata": {},
   "outputs": [
    {
     "data": {
      "text/plain": [
       "['Year',\n",
       " 'Month',\n",
       " 'Flights Booked',\n",
       " 'Flights with Companions',\n",
       " 'Total Flights',\n",
       " 'Distance',\n",
       " 'Points Accumulated',\n",
       " 'Points Redeemed',\n",
       " 'Dollar Cost Points Redeemed',\n",
       " 'Country',\n",
       " 'Province',\n",
       " 'City',\n",
       " 'Postal Code',\n",
       " 'Gender',\n",
       " 'Education',\n",
       " 'Salary',\n",
       " 'Marital Status',\n",
       " 'Loyalty Card',\n",
       " 'CLV',\n",
       " 'Enrollment Type',\n",
       " 'Enrollment Year',\n",
       " 'Enrollment Month',\n",
       " 'Cancellation Year',\n",
       " 'Cancellation Month']"
      ]
     },
     "execution_count": 48,
     "metadata": {},
     "output_type": "execute_result"
    }
   ],
   "source": [
    "#Nos muestra las columnas que tienen filas duplicadas. A mí me interesaba ver si el índice estaba duplicado, en el resto de columnas es normal que exsitan duplicados.\n",
    "\n",
    "columnas_con_duplicados = df_final[df_final.duplicated(keep=False)].columns.tolist()\n",
    "columnas_con_duplicados"
   ]
  },
  {
   "cell_type": "code",
   "execution_count": 49,
   "metadata": {},
   "outputs": [
    {
     "data": {
      "text/plain": [
       "Year                             int64\n",
       "Month                            int64\n",
       "Flights Booked                   int64\n",
       "Flights with Companions          int64\n",
       "Total Flights                    int64\n",
       "Distance                         int64\n",
       "Points Accumulated             float64\n",
       "Points Redeemed                  int64\n",
       "Dollar Cost Points Redeemed      int64\n",
       "Country                         object\n",
       "Province                        object\n",
       "City                            object\n",
       "Postal Code                     object\n",
       "Gender                          object\n",
       "Education                       object\n",
       "Salary                         float64\n",
       "Marital Status                  object\n",
       "Loyalty Card                    object\n",
       "CLV                            float64\n",
       "Enrollment Type                 object\n",
       "Enrollment Year                  int64\n",
       "Enrollment Month                 int64\n",
       "Cancellation Year              float64\n",
       "Cancellation Month             float64\n",
       "dtype: object"
      ]
     },
     "execution_count": 49,
     "metadata": {},
     "output_type": "execute_result"
    }
   ],
   "source": [
    "#Una vez resueltos los nulos y los duplicados veo de nuevo el tipo de datos.\n",
    "\n",
    "df_final.dtypes"
   ]
  },
  {
   "cell_type": "code",
   "execution_count": 50,
   "metadata": {},
   "outputs": [],
   "source": [
    "#Paso estas dos columnas de float a integer. Esta operación la hacemos con month y year ya que tienen que ser número enteros.\n",
    "\n",
    "df_final[\"Cancellation Month\"]=df_final [\"Cancellation Month\"].astype(int)"
   ]
  },
  {
   "cell_type": "code",
   "execution_count": 51,
   "metadata": {},
   "outputs": [],
   "source": [
    "df_final[\"Cancellation Year\"]=df_final [\"Cancellation Year\"].astype(int)"
   ]
  },
  {
   "cell_type": "code",
   "execution_count": 52,
   "metadata": {},
   "outputs": [
    {
     "data": {
      "text/plain": [
       "Year                             int64\n",
       "Month                            int64\n",
       "Flights Booked                   int64\n",
       "Flights with Companions          int64\n",
       "Total Flights                    int64\n",
       "Distance                         int64\n",
       "Points Accumulated             float64\n",
       "Points Redeemed                  int64\n",
       "Dollar Cost Points Redeemed      int64\n",
       "Country                         object\n",
       "Province                        object\n",
       "City                            object\n",
       "Postal Code                     object\n",
       "Gender                          object\n",
       "Education                       object\n",
       "Salary                         float64\n",
       "Marital Status                  object\n",
       "Loyalty Card                    object\n",
       "CLV                            float64\n",
       "Enrollment Type                 object\n",
       "Enrollment Year                  int64\n",
       "Enrollment Month                 int64\n",
       "Cancellation Year                int64\n",
       "Cancellation Month               int64\n",
       "dtype: object"
      ]
     },
     "execution_count": 52,
     "metadata": {},
     "output_type": "execute_result"
    }
   ],
   "source": [
    "#Compruebo que los datos se han cambiado\n",
    "df_final.dtypes"
   ]
  },
  {
   "cell_type": "code",
   "execution_count": 55,
   "metadata": {},
   "outputs": [
    {
     "data": {
      "text/html": [
       "<div>\n",
       "<style scoped>\n",
       "    .dataframe tbody tr th:only-of-type {\n",
       "        vertical-align: middle;\n",
       "    }\n",
       "\n",
       "    .dataframe tbody tr th {\n",
       "        vertical-align: top;\n",
       "    }\n",
       "\n",
       "    .dataframe thead th {\n",
       "        text-align: right;\n",
       "    }\n",
       "</style>\n",
       "<table border=\"1\" class=\"dataframe\">\n",
       "  <thead>\n",
       "    <tr style=\"text-align: right;\">\n",
       "      <th></th>\n",
       "      <th>Year</th>\n",
       "      <th>Month</th>\n",
       "      <th>Flights Booked</th>\n",
       "      <th>Flights with Companions</th>\n",
       "      <th>Total Flights</th>\n",
       "      <th>Distance</th>\n",
       "      <th>Points Accumulated</th>\n",
       "      <th>Points Redeemed</th>\n",
       "      <th>Dollar Cost Points Redeemed</th>\n",
       "      <th>Country</th>\n",
       "      <th>Province</th>\n",
       "      <th>City</th>\n",
       "      <th>Postal Code</th>\n",
       "      <th>Gender</th>\n",
       "      <th>Education</th>\n",
       "      <th>Salary</th>\n",
       "      <th>Marital Status</th>\n",
       "      <th>Loyalty Card</th>\n",
       "      <th>CLV</th>\n",
       "      <th>Enrollment Type</th>\n",
       "      <th>Enrollment Year</th>\n",
       "      <th>Enrollment Month</th>\n",
       "      <th>Cancellation Year</th>\n",
       "      <th>Cancellation Month</th>\n",
       "    </tr>\n",
       "    <tr>\n",
       "      <th>Loyalty Number</th>\n",
       "      <th></th>\n",
       "      <th></th>\n",
       "      <th></th>\n",
       "      <th></th>\n",
       "      <th></th>\n",
       "      <th></th>\n",
       "      <th></th>\n",
       "      <th></th>\n",
       "      <th></th>\n",
       "      <th></th>\n",
       "      <th></th>\n",
       "      <th></th>\n",
       "      <th></th>\n",
       "      <th></th>\n",
       "      <th></th>\n",
       "      <th></th>\n",
       "      <th></th>\n",
       "      <th></th>\n",
       "      <th></th>\n",
       "      <th></th>\n",
       "      <th></th>\n",
       "      <th></th>\n",
       "      <th></th>\n",
       "      <th></th>\n",
       "    </tr>\n",
       "  </thead>\n",
       "  <tbody>\n",
       "    <tr>\n",
       "      <th>721494</th>\n",
       "      <td>2017</td>\n",
       "      <td>9</td>\n",
       "      <td>0</td>\n",
       "      <td>0</td>\n",
       "      <td>0</td>\n",
       "      <td>0</td>\n",
       "      <td>0.0</td>\n",
       "      <td>0</td>\n",
       "      <td>0</td>\n",
       "      <td>Canada</td>\n",
       "      <td>British Columbia</td>\n",
       "      <td>Vancouver</td>\n",
       "      <td>V1E 4R6</td>\n",
       "      <td>Female</td>\n",
       "      <td>Bachelor</td>\n",
       "      <td>99850.0</td>\n",
       "      <td>Single</td>\n",
       "      <td>Aurora</td>\n",
       "      <td>20395.97</td>\n",
       "      <td>Standard</td>\n",
       "      <td>2017</td>\n",
       "      <td>9</td>\n",
       "      <td>0</td>\n",
       "      <td>0</td>\n",
       "    </tr>\n",
       "    <tr>\n",
       "      <th>678925</th>\n",
       "      <td>2017</td>\n",
       "      <td>1</td>\n",
       "      <td>6</td>\n",
       "      <td>4</td>\n",
       "      <td>10</td>\n",
       "      <td>2750</td>\n",
       "      <td>275.0</td>\n",
       "      <td>0</td>\n",
       "      <td>0</td>\n",
       "      <td>Canada</td>\n",
       "      <td>Ontario</td>\n",
       "      <td>Toronto</td>\n",
       "      <td>P1W 1K4</td>\n",
       "      <td>Male</td>\n",
       "      <td>College</td>\n",
       "      <td>73523.0</td>\n",
       "      <td>Single</td>\n",
       "      <td>Aurora</td>\n",
       "      <td>19606.36</td>\n",
       "      <td>Standard</td>\n",
       "      <td>2015</td>\n",
       "      <td>11</td>\n",
       "      <td>0</td>\n",
       "      <td>0</td>\n",
       "    </tr>\n",
       "    <tr>\n",
       "      <th>153193</th>\n",
       "      <td>2017</td>\n",
       "      <td>11</td>\n",
       "      <td>11</td>\n",
       "      <td>0</td>\n",
       "      <td>11</td>\n",
       "      <td>1683</td>\n",
       "      <td>168.0</td>\n",
       "      <td>0</td>\n",
       "      <td>0</td>\n",
       "      <td>Canada</td>\n",
       "      <td>British Columbia</td>\n",
       "      <td>Whistler</td>\n",
       "      <td>V6T 1Y8</td>\n",
       "      <td>Male</td>\n",
       "      <td>Bachelor</td>\n",
       "      <td>74470.0</td>\n",
       "      <td>Married</td>\n",
       "      <td>Star</td>\n",
       "      <td>2685.90</td>\n",
       "      <td>Standard</td>\n",
       "      <td>2012</td>\n",
       "      <td>7</td>\n",
       "      <td>0</td>\n",
       "      <td>0</td>\n",
       "    </tr>\n",
       "    <tr>\n",
       "      <th>576736</th>\n",
       "      <td>2017</td>\n",
       "      <td>3</td>\n",
       "      <td>0</td>\n",
       "      <td>0</td>\n",
       "      <td>0</td>\n",
       "      <td>0</td>\n",
       "      <td>0.0</td>\n",
       "      <td>0</td>\n",
       "      <td>0</td>\n",
       "      <td>Canada</td>\n",
       "      <td>Quebec</td>\n",
       "      <td>Quebec City</td>\n",
       "      <td>G1B 3L5</td>\n",
       "      <td>Male</td>\n",
       "      <td>Bachelor</td>\n",
       "      <td>76255.0</td>\n",
       "      <td>Single</td>\n",
       "      <td>Nova</td>\n",
       "      <td>6245.44</td>\n",
       "      <td>2018 Promotion</td>\n",
       "      <td>2018</td>\n",
       "      <td>4</td>\n",
       "      <td>0</td>\n",
       "      <td>0</td>\n",
       "    </tr>\n",
       "    <tr>\n",
       "      <th>203245</th>\n",
       "      <td>2017</td>\n",
       "      <td>2</td>\n",
       "      <td>0</td>\n",
       "      <td>0</td>\n",
       "      <td>0</td>\n",
       "      <td>0</td>\n",
       "      <td>0.0</td>\n",
       "      <td>0</td>\n",
       "      <td>0</td>\n",
       "      <td>Canada</td>\n",
       "      <td>British Columbia</td>\n",
       "      <td>Whistler</td>\n",
       "      <td>V6T 1Y8</td>\n",
       "      <td>Male</td>\n",
       "      <td>Bachelor</td>\n",
       "      <td>50235.0</td>\n",
       "      <td>Married</td>\n",
       "      <td>Star</td>\n",
       "      <td>13406.92</td>\n",
       "      <td>Standard</td>\n",
       "      <td>2018</td>\n",
       "      <td>12</td>\n",
       "      <td>0</td>\n",
       "      <td>0</td>\n",
       "    </tr>\n",
       "  </tbody>\n",
       "</table>\n",
       "</div>"
      ],
      "text/plain": [
       "                Year  Month  Flights Booked  Flights with Companions  \\\n",
       "Loyalty Number                                                         \n",
       "721494          2017      9               0                        0   \n",
       "678925          2017      1               6                        4   \n",
       "153193          2017     11              11                        0   \n",
       "576736          2017      3               0                        0   \n",
       "203245          2017      2               0                        0   \n",
       "\n",
       "                Total Flights  Distance  Points Accumulated  Points Redeemed  \\\n",
       "Loyalty Number                                                                 \n",
       "721494                      0         0                 0.0                0   \n",
       "678925                     10      2750               275.0                0   \n",
       "153193                     11      1683               168.0                0   \n",
       "576736                      0         0                 0.0                0   \n",
       "203245                      0         0                 0.0                0   \n",
       "\n",
       "                Dollar Cost Points Redeemed Country          Province  \\\n",
       "Loyalty Number                                                          \n",
       "721494                                    0  Canada  British Columbia   \n",
       "678925                                    0  Canada           Ontario   \n",
       "153193                                    0  Canada  British Columbia   \n",
       "576736                                    0  Canada            Quebec   \n",
       "203245                                    0  Canada  British Columbia   \n",
       "\n",
       "                       City Postal Code  Gender Education   Salary  \\\n",
       "Loyalty Number                                                       \n",
       "721494            Vancouver     V1E 4R6  Female  Bachelor  99850.0   \n",
       "678925              Toronto     P1W 1K4    Male   College  73523.0   \n",
       "153193             Whistler     V6T 1Y8    Male  Bachelor  74470.0   \n",
       "576736          Quebec City     G1B 3L5    Male  Bachelor  76255.0   \n",
       "203245             Whistler     V6T 1Y8    Male  Bachelor  50235.0   \n",
       "\n",
       "               Marital Status Loyalty Card       CLV Enrollment Type  \\\n",
       "Loyalty Number                                                         \n",
       "721494                 Single       Aurora  20395.97        Standard   \n",
       "678925                 Single       Aurora  19606.36        Standard   \n",
       "153193                Married         Star   2685.90        Standard   \n",
       "576736                 Single         Nova   6245.44  2018 Promotion   \n",
       "203245                Married         Star  13406.92        Standard   \n",
       "\n",
       "                Enrollment Year  Enrollment Month  Cancellation Year  \\\n",
       "Loyalty Number                                                         \n",
       "721494                     2017                 9                  0   \n",
       "678925                     2015                11                  0   \n",
       "153193                     2012                 7                  0   \n",
       "576736                     2018                 4                  0   \n",
       "203245                     2018                12                  0   \n",
       "\n",
       "                Cancellation Month  \n",
       "Loyalty Number                      \n",
       "721494                           0  \n",
       "678925                           0  \n",
       "153193                           0  \n",
       "576736                           0  \n",
       "203245                           0  "
      ]
     },
     "execution_count": 55,
     "metadata": {},
     "output_type": "execute_result"
    }
   ],
   "source": [
    "\n",
    "df_final.sample (5)"
   ]
  },
  {
   "cell_type": "markdown",
   "metadata": {},
   "source": [
    "FASE 2: VISUALIZACIÓN\n",
    "\n",
    "*Usando las herramientas de visualización que has aprendido durante este módulo, contesta a las siguientes gráficas usando la mejor gráfica que consideres:"
   ]
  },
  {
   "cell_type": "code",
   "execution_count": 53,
   "metadata": {},
   "outputs": [
    {
     "data": {
      "text/plain": [
       "Index(['Year', 'Month', 'Flights Booked', 'Flights with Companions',\n",
       "       'Total Flights', 'Distance', 'Points Accumulated', 'Points Redeemed',\n",
       "       'Dollar Cost Points Redeemed', 'Country', 'Province', 'City',\n",
       "       'Postal Code', 'Gender', 'Education', 'Salary', 'Marital Status',\n",
       "       'Loyalty Card', 'CLV', 'Enrollment Type', 'Enrollment Year',\n",
       "       'Enrollment Month', 'Cancellation Year', 'Cancellation Month'],\n",
       "      dtype='object')"
      ]
     },
     "execution_count": 53,
     "metadata": {},
     "output_type": "execute_result"
    }
   ],
   "source": [
    "df_final.columns"
   ]
  },
  {
   "cell_type": "markdown",
   "metadata": {},
   "source": [
    "1. ¿Cómo se distribuye la cantidad de vuelos reservados por mes durante el año?"
   ]
  },
  {
   "cell_type": "code",
   "execution_count": 56,
   "metadata": {},
   "outputs": [
    {
     "data": {
      "image/png": "[encoded data removed]",
      "text/plain": [
       "<Figure size 432x288 with 1 Axes>"
      ]
     },
     "metadata": {
      "needs_background": "light"
     },
     "output_type": "display_data"
    }
   ],
   "source": [
    "\n",
    "\n",
    "# Creo una nueva columna para unir mes y año y asigno el día 1 por especificar un día del mes\n",
    "df_final['FechaReserva'] = pd.to_datetime(df_final[['Year', 'Month']].assign(DAY=1))\n",
    "\n",
    "# Crea una nueva columna 'MesReserva' que represente el mes de cada reserva\n",
    "df_final['MesReserva'] = df_final['FechaReserva'].dt.month\n",
    "\n",
    "# Agrupa por mes y suma la cantidad de vuelos reservados en cada mes\n",
    "reservas_por_mes = df_final.groupby('MesReserva')['Flights Booked'].sum()\n",
    "\n",
    "# Con una gráfica de barras es más visual. \n",
    "plt.bar(reservas_por_mes.index, reservas_por_mes.values, color='blue')\n",
    "plt.xlabel('Mes')\n",
    "plt.ylabel('Cantidad de Vuelos Reservados')\n",
    "plt.title('Distribución de Vuelos Reservados por Mes')\n",
    "plt.xticks(range(1, 13), ['Ene', 'Feb', 'Mar', 'Abr', 'May', 'Jun', 'Jul', 'Ago', 'Sep', 'Oct', 'Nov', 'Dic'])\n",
    "plt.show()\n"
   ]
  },
  {
   "cell_type": "markdown",
   "metadata": {},
   "source": [
    "Esta gráfica nos muestra, claramente, que los meses de mayor reserva son los de verano, principalmente, el mes de julio y en diciembre el número de reservas se puede equipara a los mese de junio y agosto. Estos meses coinciden con los meses en que las personas suelen estar de vacaciones y, por lo tanto, viajan más. "
   ]
  },
  {
   "cell_type": "markdown",
   "metadata": {},
   "source": [
    "2. ¿Existe una relación entre la distancia de los vuelos y los puntos acumulados por los clientes?"
   ]
  },
  {
   "cell_type": "code",
   "execution_count": 60,
   "metadata": {},
   "outputs": [
    {
     "data": {
      "image/png": "[encoded data removed]",
      "text/plain": [
       "<Figure size 720x432 with 1 Axes>"
      ]
     },
     "metadata": {
      "needs_background": "light"
     },
     "output_type": "display_data"
    }
   ],
   "source": [
    "# Crear una figura y ejes para la gráfica de dispersión\n",
    "plt.figure(figsize=(10, 6))\n",
    "\n",
    "# Utilizar seaborn para crear un gráfico de dispersión con línea de regresión\n",
    "sns.regplot(x='Distance', y='Points Accumulated', data=df_final, scatter_kws={'s': 20, 'alpha': 0.5})\n",
    "\n",
    "# Le doy nombre a la tabla y a los ejes\n",
    "plt.title('Relación entre Distancia de Vuelos y Puntos Acumulados')\n",
    "plt.xlabel('Distancia de Vuelos')\n",
    "plt.ylabel('Puntos Acumulados')\n",
    "plt.show()\n"
   ]
  },
  {
   "cell_type": "markdown",
   "metadata": {},
   "source": [
    "Esta gráfica muestra que a medida que una variable aumenta, la otra variable también tiende a aumentar. Por lo tanto entiendo que a mayor distancia de vuelo mayor es el número de puntos acumulados."
   ]
  },
  {
   "cell_type": "markdown",
   "metadata": {},
   "source": [
    "3. ¿Cuál es la distribución de los clientes por provincia o estado?"
   ]
  },
  {
   "cell_type": "code",
   "execution_count": 61,
   "metadata": {},
   "outputs": [
    {
     "data": {
      "image/png": "[encoded data removed]",
      "text/plain": [
       "<Figure size 864x432 with 1 Axes>"
      ]
     },
     "metadata": {
      "needs_background": "light"
     },
     "output_type": "display_data"
    }
   ],
   "source": [
    "#Creo una gráfica de barras para mostra los clientes según las provincias.\n",
    "\n",
    "plt.figure(figsize=(12, 6))\n",
    "sns.countplot(x='Province', data=df_final, order=df_final['Province'].value_counts().index) #Lo ordena de mayor a menor, la barra que está más a la izquierda representa a la provincia con más clientes.\n",
    "plt.xticks(rotation=45, ha='right')  # Lo pongo de esta manera oara permitir una mejor legibilidad.\n",
    "# Le doy nombre a la tabla y a los ejes\n",
    "plt.title('Distribución de Clientes por Provincia')\n",
    "plt.xlabel('Provincia')\n",
    "plt.ylabel('Número de Clientes')\n",
    "plt.show()\n"
   ]
  },
  {
   "cell_type": "markdown",
   "metadata": {},
   "source": [
    "Esta tabla es bastante visual y sencilla de interpretar. Leyéndola de izquierda a derecha indica que la provincia con más clientes es Ontario, seguida de British Columbia y Quebec. La provincia con menor número de clientes es Prince Edward Island. "
   ]
  },
  {
   "cell_type": "markdown",
   "metadata": {},
   "source": [
    "4. ¿Cómo se compara el salario promedio entre los diferentes niveles educativos de los clientes?"
   ]
  },
  {
   "cell_type": "code",
   "execution_count": 65,
   "metadata": {},
   "outputs": [
    {
     "data": {
      "image/png": "[encoded data removed]",
      "text/plain": [
       "<Figure size 864x432 with 1 Axes>"
      ]
     },
     "metadata": {
      "needs_background": "light"
     },
     "output_type": "display_data"
    }
   ],
   "source": [
    "# Voy a establecer el orden deseado para las columnas de nivel educativo, anteriormente, me lo daba desordenado.\n",
    "education_order = ['High School or Below', 'College', 'Bachelor', 'Master', 'Doctor']\n",
    "\n",
    "# Crear un gráfico de barras para comparar el salario promedio por nivel educativo\n",
    "plt.figure(figsize=(12, 6))\n",
    "sns.barplot(x='Education', y='Salary', data=df_final, order=education_order, ci='sd')\n",
    "# 'order' especifica el orden deseado para las columnas\n",
    "# 'ci' muestra la barra de error (desviación estándar)\n",
    "\n",
    "plt.xticks(rotation=45, ha='right')  # Rotar las etiquetas del eje x para mejorar la legibilidad\n",
    "# Le doy nombre a la tabla y a los ejes\n",
    "plt.title('Comparación del Salario Promedio por Nivel Educativo')\n",
    "plt.xlabel('Nivel Educativo')\n",
    "plt.ylabel('Salario Promedio')\n",
    "plt.show()"
   ]
  },
  {
   "cell_type": "markdown",
   "metadata": {},
   "source": [
    "Esta gráfica también indica que a mayor nivel educativo, el salario es más alto. De ahí que las personas con doctorado tengan un salario el mayor salario, mientras que las que solo han ido a High School o no han llegado a las secundaria, tienen un salario inferior. Sin embargo, la desviación estandar que se representa a través de la barra negra muestra que si la longitud de la barra es corta, los salarios están más concentrados alrededor del valor promedio y si la barra es larga, que es lo que ocurre en el caso de los que tienen doctorado, indica una mayor dispersión de los salarios, lo que sugiere una mayor variabilidad."
   ]
  },
  {
   "cell_type": "markdown",
   "metadata": {},
   "source": [
    "5. ¿Cuál es la proporción de clientes con diferentes tipos de tarjetas de fidelidad?"
   ]
  },
  {
   "cell_type": "code",
   "execution_count": 68,
   "metadata": {},
   "outputs": [
    {
     "data": {
      "image/png": "[encoded data removed]",
      "text/plain": [
       "<Figure size 576x576 with 1 Axes>"
      ]
     },
     "metadata": {},
     "output_type": "display_data"
    }
   ],
   "source": [
    "\n",
    "\n",
    "# Calcular la proporción de clientes por tipo de tarjeta de fidelidad\n",
    "loyalty_counts = df_final['Loyalty Card'].value_counts()\n",
    "total_clients = len(df_final)\n",
    "loyalty_proportions = loyalty_counts / total_clients\n",
    "\n",
    "# Crear un gráfico de torta con etiquetas mejoradas\n",
    "plt.figure(figsize=(8, 8))\n",
    "colors = sns.color_palette('pastel')\n",
    "plt.pie(loyalty_proportions, labels=loyalty_proportions.index, autopct='%1.1f%%', startangle=90, colors=colors, textprops={'color': 'w', 'weight': 'bold'})\n",
    "plt.title('Proporción de Clientes por Tipo de Tarjeta de Fidelidad')\n",
    "plt.show()\n"
   ]
  },
  {
   "cell_type": "markdown",
   "metadata": {},
   "source": [
    "Esta gráfica es bastante visual y nos muestra la proporción de clientes para cada tipo de tarjeta. Siendo la tarjeta Star la que cuenta con el 45,5% de los clientes, seguida de la tarjeta Nova con un 33,9% y, por último, la tarjeta Aurora con un 20,7 %."
   ]
  },
  {
   "cell_type": "markdown",
   "metadata": {},
   "source": [
    "6. ¿Cómo se distribuyen los clientes según su estado civil y género?"
   ]
  },
  {
   "cell_type": "code",
   "execution_count": 67,
   "metadata": {},
   "outputs": [
    {
     "data": {
      "image/png": "[encoded data removed]",
      "text/plain": [
       "<Figure size 864x576 with 1 Axes>"
      ]
     },
     "metadata": {
      "needs_background": "light"
     },
     "output_type": "display_data"
    }
   ],
   "source": [
    "\n",
    "\n",
    "# Crear un gráfico de barras apiladas para la distribución de clientes por estado civil y género\n",
    "plt.figure(figsize=(12, 8))\n",
    "sns.countplot(x='Marital Status', hue='Gender', data=df_final, palette='Set2')\n",
    "\n",
    "# Le doy nombre a la tabla y a los ejes\n",
    "plt.title('Distribución de Clientes por Estado Civil y Género')\n",
    "plt.xlabel('Estado Civil')\n",
    "plt.ylabel('Cantidad de Clientes')\n",
    "plt.legend(title='Género', loc='upper right')\n",
    "plt.show()\n"
   ]
  },
  {
   "cell_type": "markdown",
   "metadata": {},
   "source": [
    "Esta gráfica muestra que la mayoría de los clientes están casados y tienen la misma representación por género, los solteros son como la mitad de la cantidad de los casados con casi igual de proporción de género y, los divorciados son el menor número de clientes también igualados por géneros."
   ]
  },
  {
   "cell_type": "markdown",
   "metadata": {},
   "source": [
    "FASE 3: EVALUACIÓN DE DIFERENCIAS EN RESERVAS DE VUELOS POR NIVEL EDUCATIVO\n"
   ]
  },
  {
   "cell_type": "markdown",
   "metadata": {},
   "source": [
    "1. Preparación de Datos:\n",
    "Filtra el conjunto de datos para incluir únicamente las columnas relevantes: 'Flights Booked' y 'Education'."
   ]
  },
  {
   "cell_type": "code",
   "execution_count": 70,
   "metadata": {},
   "outputs": [
    {
     "data": {
      "text/plain": [
       "array(['Bachelor', 'College', 'Master', 'High School or Below', 'Doctor'],\n",
       "      dtype=object)"
      ]
     },
     "execution_count": 70,
     "metadata": {},
     "output_type": "execute_result"
    }
   ],
   "source": [
    "df_final['Education'].unique()"
   ]
  },
  {
   "cell_type": "code",
   "execution_count": 71,
   "metadata": {},
   "outputs": [
    {
     "data": {
      "text/plain": [
       "array([ 3,  2,  6,  4,  0, 10,  9, 13,  1, 14,  7,  5, 11, 17,  8, 15, 12,\n",
       "       16, 20, 18, 19, 21])"
      ]
     },
     "execution_count": 71,
     "metadata": {},
     "output_type": "execute_result"
    }
   ],
   "source": [
    "df_final [\"Flights Booked\"].unique()"
   ]
  },
  {
   "cell_type": "code",
   "execution_count": 78,
   "metadata": {},
   "outputs": [
    {
     "name": "stdout",
     "output_type": "stream",
     "text": [
      "                Flights Booked Education\n",
      "Loyalty Number                          \n",
      "100018                       3  Bachelor\n",
      "100018                       2  Bachelor\n",
      "100018                       6  Bachelor\n",
      "100018                       4  Bachelor\n",
      "100018                       0  Bachelor\n"
     ]
    }
   ],
   "source": [
    "# Hay que filtrar el conjunto de datos#\n",
    "df_colum_filtradas2 = df_final[['Flights Booked', 'Education']]\n",
    "\n",
    "# Mostrar las primeras filas del conjunto de datos filtrado\n",
    "print(df_colum_filtradas2.head())\n"
   ]
  },
  {
   "cell_type": "markdown",
   "metadata": {},
   "source": [
    "2. Análisis Descriptivo:\n",
    "Agrupa los datos por nivel educativo y calcula estadísticas descriptivas básicas (como el promedio, la desviación estandar, los percentiles) del número de vuelos reservados para cada grupo."
   ]
  },
  {
   "cell_type": "code",
   "execution_count": 79,
   "metadata": {},
   "outputs": [
    {
     "data": {
      "text/html": [
       "<div>\n",
       "<style scoped>\n",
       "    .dataframe tbody tr th:only-of-type {\n",
       "        vertical-align: middle;\n",
       "    }\n",
       "\n",
       "    .dataframe tbody tr th {\n",
       "        vertical-align: top;\n",
       "    }\n",
       "\n",
       "    .dataframe thead th {\n",
       "        text-align: right;\n",
       "    }\n",
       "</style>\n",
       "<table border=\"1\" class=\"dataframe\">\n",
       "  <thead>\n",
       "    <tr style=\"text-align: right;\">\n",
       "      <th></th>\n",
       "      <th>Flights Booked</th>\n",
       "      <th>Education</th>\n",
       "      <th>Education Category</th>\n",
       "    </tr>\n",
       "    <tr>\n",
       "      <th>Loyalty Number</th>\n",
       "      <th></th>\n",
       "      <th></th>\n",
       "      <th></th>\n",
       "    </tr>\n",
       "  </thead>\n",
       "  <tbody>\n",
       "    <tr>\n",
       "      <th>100018</th>\n",
       "      <td>3</td>\n",
       "      <td>Bachelor</td>\n",
       "      <td>Graduate or Below</td>\n",
       "    </tr>\n",
       "    <tr>\n",
       "      <th>100018</th>\n",
       "      <td>2</td>\n",
       "      <td>Bachelor</td>\n",
       "      <td>Graduate or Below</td>\n",
       "    </tr>\n",
       "    <tr>\n",
       "      <th>100018</th>\n",
       "      <td>6</td>\n",
       "      <td>Bachelor</td>\n",
       "      <td>Graduate or Below</td>\n",
       "    </tr>\n",
       "    <tr>\n",
       "      <th>100018</th>\n",
       "      <td>4</td>\n",
       "      <td>Bachelor</td>\n",
       "      <td>Graduate or Below</td>\n",
       "    </tr>\n",
       "    <tr>\n",
       "      <th>100018</th>\n",
       "      <td>0</td>\n",
       "      <td>Bachelor</td>\n",
       "      <td>Graduate or Below</td>\n",
       "    </tr>\n",
       "    <tr>\n",
       "      <th>...</th>\n",
       "      <td>...</td>\n",
       "      <td>...</td>\n",
       "      <td>...</td>\n",
       "    </tr>\n",
       "    <tr>\n",
       "      <th>999986</th>\n",
       "      <td>15</td>\n",
       "      <td>Bachelor</td>\n",
       "      <td>Graduate or Below</td>\n",
       "    </tr>\n",
       "    <tr>\n",
       "      <th>999986</th>\n",
       "      <td>0</td>\n",
       "      <td>Bachelor</td>\n",
       "      <td>Graduate or Below</td>\n",
       "    </tr>\n",
       "    <tr>\n",
       "      <th>999986</th>\n",
       "      <td>6</td>\n",
       "      <td>Bachelor</td>\n",
       "      <td>Graduate or Below</td>\n",
       "    </tr>\n",
       "    <tr>\n",
       "      <th>999986</th>\n",
       "      <td>11</td>\n",
       "      <td>Bachelor</td>\n",
       "      <td>Graduate or Below</td>\n",
       "    </tr>\n",
       "    <tr>\n",
       "      <th>999986</th>\n",
       "      <td>0</td>\n",
       "      <td>Bachelor</td>\n",
       "      <td>Graduate or Below</td>\n",
       "    </tr>\n",
       "  </tbody>\n",
       "</table>\n",
       "<p>405624 rows × 3 columns</p>\n",
       "</div>"
      ],
      "text/plain": [
       "                Flights Booked Education Education Category\n",
       "Loyalty Number                                             \n",
       "100018                       3  Bachelor  Graduate or Below\n",
       "100018                       2  Bachelor  Graduate or Below\n",
       "100018                       6  Bachelor  Graduate or Below\n",
       "100018                       4  Bachelor  Graduate or Below\n",
       "100018                       0  Bachelor  Graduate or Below\n",
       "...                        ...       ...                ...\n",
       "999986                      15  Bachelor  Graduate or Below\n",
       "999986                       0  Bachelor  Graduate or Below\n",
       "999986                       6  Bachelor  Graduate or Below\n",
       "999986                      11  Bachelor  Graduate or Below\n",
       "999986                       0  Bachelor  Graduate or Below\n",
       "\n",
       "[405624 rows x 3 columns]"
      ]
     },
     "execution_count": 79,
     "metadata": {},
     "output_type": "execute_result"
    }
   ],
   "source": [
    "#La función lamba ayuda a dividir los estudios por categoría usando el apply. Y los resultados van a una nueva columna, en este caso, Education Category (columna que contiene la categoría educativa clasificada según las condiciones definidas en la función lamba)\n",
    "\n",
    "df_colum_filtradas2['Education Category'] = df_final['Education'].apply(lambda x: 'Graduate or Below' if x in ['High School or Below', 'College', 'Bachelor'] else 'Postgraduate')\n",
    "df_colum_filtradas2"
   ]
  },
  {
   "cell_type": "code",
   "execution_count": 80,
   "metadata": {},
   "outputs": [
    {
     "data": {
      "text/html": [
       "<div>\n",
       "<style scoped>\n",
       "    .dataframe tbody tr th:only-of-type {\n",
       "        vertical-align: middle;\n",
       "    }\n",
       "\n",
       "    .dataframe tbody tr th {\n",
       "        vertical-align: top;\n",
       "    }\n",
       "\n",
       "    .dataframe thead th {\n",
       "        text-align: right;\n",
       "    }\n",
       "</style>\n",
       "<table border=\"1\" class=\"dataframe\">\n",
       "  <thead>\n",
       "    <tr style=\"text-align: right;\">\n",
       "      <th></th>\n",
       "      <th>count</th>\n",
       "      <th>mean</th>\n",
       "      <th>std</th>\n",
       "      <th>min</th>\n",
       "      <th>25%</th>\n",
       "      <th>50%</th>\n",
       "      <th>75%</th>\n",
       "      <th>max</th>\n",
       "    </tr>\n",
       "    <tr>\n",
       "      <th>Education Category</th>\n",
       "      <th></th>\n",
       "      <th></th>\n",
       "      <th></th>\n",
       "      <th></th>\n",
       "      <th></th>\n",
       "      <th></th>\n",
       "      <th></th>\n",
       "      <th></th>\n",
       "    </tr>\n",
       "  </thead>\n",
       "  <tbody>\n",
       "    <tr>\n",
       "      <th>Graduate or Below</th>\n",
       "      <td>375432.0</td>\n",
       "      <td>4.111301</td>\n",
       "      <td>5.224839</td>\n",
       "      <td>0.0</td>\n",
       "      <td>0.0</td>\n",
       "      <td>1.0</td>\n",
       "      <td>8.0</td>\n",
       "      <td>21.0</td>\n",
       "    </tr>\n",
       "    <tr>\n",
       "      <th>Postgraduate</th>\n",
       "      <td>30192.0</td>\n",
       "      <td>4.161698</td>\n",
       "      <td>5.233815</td>\n",
       "      <td>0.0</td>\n",
       "      <td>0.0</td>\n",
       "      <td>1.0</td>\n",
       "      <td>8.0</td>\n",
       "      <td>21.0</td>\n",
       "    </tr>\n",
       "  </tbody>\n",
       "</table>\n",
       "</div>"
      ],
      "text/plain": [
       "                       count      mean       std  min  25%  50%  75%   max\n",
       "Education Category                                                        \n",
       "Graduate or Below   375432.0  4.111301  5.224839  0.0  0.0  1.0  8.0  21.0\n",
       "Postgraduate         30192.0  4.161698  5.233815  0.0  0.0  1.0  8.0  21.0"
      ]
     },
     "execution_count": 80,
     "metadata": {},
     "output_type": "execute_result"
    }
   ],
   "source": [
    "#Este código tiene en cuenta el dataframe anterior y lo agrupa por la nueva columna llamada Education Category. DE esta forma, luego se pueden calcular las estad´siticas descriptivas para la columna Flights Booked dentro de cada grupo-\n",
    "\n",
    "estadisticas_vuelos_educacion = df_colum_filtradas2.groupby('Education Category')['Flights Booked'].describe()\n",
    "estadisticas_vuelos_educacion"
   ]
  },
  {
   "cell_type": "markdown",
   "metadata": {},
   "source": [
    "3. Prueba Estadística:\n",
    "Realiza una prueba de A/B testing para determinar si existe una diferencia significativa en el número de vuelos reservados entre los diferentes niveles educativos."
   ]
  },
  {
   "cell_type": "markdown",
   "metadata": {},
   "source": [
    "H= Hipótesis nula: No existe diferencia significativa en el número de vuelos reservados entre el grupo de menor nivel educativo y el de mayor nivel educativo. \n",
    "H1: Hipótesis alternativa: Sí existe diferencia significativa en el número de vuelos reservados entre el grupo de menor nivel educativo y el de mayor nivel educativo."
   ]
  },
  {
   "cell_type": "code",
   "execution_count": 81,
   "metadata": {},
   "outputs": [
    {
     "name": "stdout",
     "output_type": "stream",
     "text": [
      "T-statistic: -1.6098836406577404\n",
      "P-value: 0.10743222651379422\n",
      "No hay suficiente evidencia para rechazar la hipótesis nula.\n"
     ]
    }
   ],
   "source": [
    "\n",
    "\n",
    "# Filtro los datos para los niveles educativos de interés\n",
    "graduate_or_below_flights = df_colum_filtradas2[df_colum_filtradas2['Education Category'] == 'Graduate or Below']['Flights Booked']\n",
    "postgraduate_flights = df_colum_filtradas2[df_colum_filtradas2['Education Category'] == 'Postgraduate']['Flights Booked']\n",
    "\n",
    "# Realizo la prueba t independiente\n",
    "t_statistic, p_value = stats.ttest_ind(graduate_or_below_flights, postgraduate_flights, equal_var=False)\n",
    "\n",
    "# Imprimo el resultado de la prueba\n",
    "print(f\"T-statistic: {t_statistic}\")\n",
    "print(f\"P-value: {p_value}\")\n",
    "\n",
    "# Tomar una decisión basada en el valor p\n",
    "alpha = 0.05  #Si el valor es menor se toma la hipótesis nula. De lo contrario, no se rechaza la hipótesis nula debido a la falta de evidencia para decir lo contrario.\n",
    "if p_value < alpha:\n",
    "    print(\"Rechazamos la hipótesis nula. Hay evidencia de una diferencia significativa en el número de vuelos reservados entre los niveles educativos 'Graduate or Below' y 'Postgraduate'.\")\n",
    "else:\n",
    "    print(\"No hay suficiente evidencia para rechazar la hipótesis nula.\")\n"
   ]
  },
  {
   "cell_type": "markdown",
   "metadata": {},
   "source": [
    "Esto significa que según los datos y la prueba realizada no hay suficiente respaldo para afirmar que existe una diferencia significativa. El no rechazarla no significa que sea cierta, sólo que no hay suficiente evidencia para decir los contrario."
   ]
  }
 ],
 "metadata": {
  "kernelspec": {
   "display_name": "base",
   "language": "python",
   "name": "python3"
  },
  "language_info": {
   "codemirror_mode": {
    "name": "ipython",
    "version": 3
   },
   "file_extension": ".py",
   "mimetype": "text/x-python",
   "name": "python",
   "nbconvert_exporter": "python",
   "pygments_lexer": "ipython3",
   "version": "3.9.7"
  }
 },
 "nbformat": 4,
 "nbformat_minor": 2
}
